{
 "cells": [
  {
   "cell_type": "code",
   "execution_count": 11,
   "metadata": {},
   "outputs": [],
   "source": [
    "import torch\n",
    "import matplotlib.pyplot as plt"
   ]
  },
  {
   "cell_type": "code",
   "execution_count": 48,
   "metadata": {},
   "outputs": [
    {
     "name": "stderr",
     "output_type": "stream",
     "text": [
      "/tmp/ipykernel_4176374/927806616.py:1: FutureWarning: You are using `torch.load` with `weights_only=False` (the current default value), which uses the default pickle module implicitly. It is possible to construct malicious pickle data which will execute arbitrary code during unpickling (See https://github.com/pytorch/pytorch/blob/main/SECURITY.md#untrusted-models for more details). In a future release, the default value for `weights_only` will be flipped to `True`. This limits the functions that could be executed during unpickling. Arbitrary objects will no longer be allowed to be loaded via this mode unless they are explicitly allowlisted by the user via `torch.serialization.add_safe_globals`. We recommend you start setting `weights_only=True` for any use case where you don't have full control of the loaded file. Please open an issue on GitHub for any issues related to this experimental feature.\n",
      "  attns = torch.load('/home/tanyang/workspace/DeepVaccine/result/ankh-large/VirusBinary/full/ESMFold_ankh-large_attention1d_5e-4_full__attentions.pt')\n"
     ]
    },
    {
     "data": {
      "text/plain": [
       "torch.Size([1, 1274, 1])"
      ]
     },
     "execution_count": 48,
     "metadata": {},
     "output_type": "execute_result"
    }
   ],
   "source": [
    "attns = torch.load('/home/tanyang/workspace/DeepVaccine/result/ankh-large/VirusBinary/full/ESMFold_ankh-large_attention1d_5e-4_full__attentions.pt')\n",
    "attns[0].shape"
   ]
  },
  {
   "cell_type": "code",
   "execution_count": 49,
   "metadata": {},
   "outputs": [
    {
     "data": {
      "text/plain": [
       "torch.Size([1, 1274, 1])"
      ]
     },
     "execution_count": 49,
     "metadata": {},
     "output_type": "execute_result"
    }
   ],
   "source": [
    "attns[0].shape"
   ]
  },
  {
   "cell_type": "code",
   "execution_count": 50,
   "metadata": {},
   "outputs": [],
   "source": [
    "attns[0] = attns[0].squeeze()"
   ]
  },
  {
   "cell_type": "code",
   "execution_count": 61,
   "metadata": {},
   "outputs": [],
   "source": [
    "attns[0].unsqueeze(0).cpu().detach().numpy()\n",
    "\n",
    "# open pdb file, and replace the bfactor with the attention score\n",
    "pdb = open('/home/tanyang/workspace/DeepVaccine/dataset/CaseStudy/pdb/YP_009724390.1.pdb', 'r')\n",
    "pdb_lines = pdb.readlines()\n",
    "pdb.close()\n",
    "\n",
    "\n",
    "# replace the bfactor with the attention score\n",
    "for i in range(len(pdb_lines)):\n",
    "    if pdb_lines[i].startswith('ATOM'):\n",
    "        # same residue with different atoms have the same attention score\n",
    "        current_residue_idx = int(pdb_lines[i][22:26].strip())\n",
    "        pdb_lines[i] = pdb_lines[i][:60] +\" \"+ str(attns[0][current_residue_idx - 1].item()) + pdb_lines[i][66:]\n",
    "        \n",
    "        \n",
    "        \n",
    "        \n",
    "# write the new pdb file\n",
    "with open('YP_009724390.1_attn.pdb', 'w') as f:\n",
    "    for line in pdb_lines:\n",
    "        f.write(line)\n",
    "\n",
    "# with open('attns.txt', 'w') as f:\n",
    "#     for i in attns[0].squeeze().cpu().detach().numpy():\n",
    "#         f.write(str(i) + '\\n')"
   ]
  },
  {
   "cell_type": "code",
   "execution_count": 62,
   "metadata": {},
   "outputs": [
    {
     "data": {
      "image/png": "[encoded data removed]",
      "text/plain": [
       "<Figure size 2000x500 with 2 Axes>"
      ]
     },
     "metadata": {},
     "output_type": "display_data"
    }
   ],
   "source": [
    "# draw 1d attention map\n",
    "plt.figure(figsize=(20, 5))\n",
    "plt.imshow(attns[0].unsqueeze(0), aspect='auto', cmap='hot')\n",
    "plt.colorbar()\n",
    "plt.show()\n"
   ]
  },
  {
   "cell_type": "code",
   "execution_count": 64,
   "metadata": {},
   "outputs": [
    {
     "data": {
      "text/plain": [
       "tensor([  73,  147,  148,  248,  253,  297,  300,  330,  337,  338,  341,  342,\n",
       "         365,  366,  367,  368,  369,  384,  407,  418,  419,  421,  439,  447,\n",
       "         580,  601,  602,  603,  617,  621,  624,  626,  633,  752,  753,  754,\n",
       "         755,  760,  761,  772,  775,  781,  782,  784,  785,  786,  787,  788,\n",
       "         867,  869,  873,  874,  875,  891,  898,  899,  901,  902,  905,  906,\n",
       "         908,  909,  910,  912,  924,  930,  931,  933,  934,  937,  938,  942,\n",
       "         946,  948,  951,  952,  953,  954,  955,  956,  957,  959,  966,  967,\n",
       "         973,  986,  990,  993,  997, 1001, 1004, 1009, 1010, 1011, 1012, 1013,\n",
       "        1015, 1019, 1022, 1097, 1117, 1141, 1142, 1148, 1150, 1151, 1153, 1170,\n",
       "        1172, 1174, 1179, 1180, 1182, 1183, 1186, 1187, 1190, 1193, 1194, 1213,\n",
       "        1214, 1218, 1225, 1228, 1229, 1231, 1232, 1234])"
      ]
     },
     "execution_count": 64,
     "metadata": {},
     "output_type": "execute_result"
    }
   ],
   "source": [
    "# select the top 10% of the attention scores\n",
    "threshold = torch.quantile(attns[0], 0.9)\n",
    "selected_residues = torch.where(attns[0] > threshold)[0]\n",
    "selected_residues"
   ]
  }
 ],
 "metadata": {
  "kernelspec": {
   "display_name": "protssn",
   "language": "python",
   "name": "python3"
  },
  "language_info": {
   "codemirror_mode": {
    "name": "ipython",
    "version": 3
   },
   "file_extension": ".py",
   "mimetype": "text/x-python",
   "name": "python",
   "nbconvert_exporter": "python",
   "pygments_lexer": "ipython3",
   "version": "3.10.14"
  }
 },
 "nbformat": 4,
 "nbformat_minor": 2
}
