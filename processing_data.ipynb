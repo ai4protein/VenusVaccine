{
 "cells": [
  {
   "metadata": {
    "ExecuteTime": {
     "end_time": "2024-09-11T12:32:24.689699Z",
     "start_time": "2024-09-11T12:32:24.615992Z"
    }
   },
   "cell_type": "code",
   "source": [
    "import pandas as pd\n",
    "\n",
    "dataset = ['BacteriaBinary', 'TumorBinary', 'VirusBinary']\n",
    "plm = ['ankh-base', 'esm2_t33_650M_UR50D', 'prot_bert']\n",
    "type = [\"full\", \"foldseek_only\", \"ez_only\", \"aa_only\"]\n",
    "\n",
    "for d in dataset:\n",
    "    metrics_mean = []\n",
    "    metrics_std = []\n",
    "    for p in plm:\n",
    "        for t in type:\n",
    "            temp_mean = pd.read_csv(f'result/{d}/{p}/{t}/ESMFold_{p}_mean_5e-4_{t}_mean.csv')\n",
    "            temp_std = pd.read_csv(f'result/{d}/{p}/{t}/ESMFold_{p}_mean_5e-4_{t}_std.csv')\n",
    "            metrics_mean.append(temp_mean)\n",
    "            metrics_std.append(temp_std)\n",
    "    metrics_mean = pd.concat(metrics_mean)\n",
    "    metrics_std = pd.concat(metrics_std)\n",
    "    metrics_mean.to_csv(f'result/{d}/metrics_mean.csv', index=False)\n",
    "    metrics_std.to_csv(f'result/{d}/metrics_std.csv', index=False)\n",
    "    "
   ],
   "id": "cc0d957c2d1111b1",
   "outputs": [],
   "execution_count": 22
  },
  {
   "metadata": {},
   "cell_type": "code",
   "outputs": [],
   "execution_count": null,
   "source": "",
   "id": "a8abad12bce93d1e"
  }
 ],
 "metadata": {
  "kernelspec": {
   "display_name": "Python 3",
   "language": "python",
   "name": "python3"
  },
  "language_info": {
   "codemirror_mode": {
    "name": "ipython",
    "version": 2
   },
   "file_extension": ".py",
   "mimetype": "text/x-python",
   "name": "python",
   "nbconvert_exporter": "python",
   "pygments_lexer": "ipython2",
   "version": "2.7.6"
  }
 },
 "nbformat": 4,
 "nbformat_minor": 5
}
