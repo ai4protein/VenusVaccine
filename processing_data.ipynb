{
 "cells": [
  {
   "metadata": {
    "ExecuteTime": {
     "end_time": "2024-09-11T12:32:24.689699Z",
     "start_time": "2024-09-11T12:32:24.615992Z"
    }
   },
   "cell_type": "code",
   "source": [
    "import pandas as pd\n",
    "\n",
    "dataset = ['BacteriaBinary', 'TumorBinary', 'VirusBinary']\n",
    "plm = ['ankh-base', 'esm2_t33_650M_UR50D', 'prot_bert']\n",
    "type = [\"full\", \"foldseek_only\", \"ez_only\", \"aa_only\"]\n",
    "\n",
    "for d in dataset:\n",
    "    metrics_mean = []\n",
    "    metrics_std = []\n",
    "    for p in plm:\n",
    "        for t in type:\n",
    "            temp_mean = pd.read_csv(f'result/{d}/{p}/{t}/ESMFold_{p}_mean_5e-4_{t}_mean.csv')\n",
    "            temp_std = pd.read_csv(f'result/{d}/{p}/{t}/ESMFold_{p}_mean_5e-4_{t}_std.csv')\n",
    "            metrics_mean.append(temp_mean)\n",
    "            metrics_std.append(temp_std)\n",
    "    metrics_mean = pd.concat(metrics_mean)\n",
    "    metrics_std = pd.concat(metrics_std)\n",
    "    metrics_mean.to_csv(f'result/{d}/metrics_mean.csv', index=False)\n",
    "    metrics_std.to_csv(f'result/{d}/metrics_std.csv', index=False)\n",
    "    "
   ],
   "id": "cc0d957c2d1111b1",
   "outputs": [],
   "execution_count": 22
  },
  {
   "metadata": {},
   "cell_type": "code",
   "outputs": [],
   "execution_count": null,
   "source": [],
   "id": "a8abad12bce93d1e"
  },
  {
   "cell_type": "markdown",
   "source": [
    "### Case 1: BacteriaBinary"
   ],
   "metadata": {
    "collapsed": false
   },
   "id": "5b3f94565154179a"
  },
  {
   "cell_type": "code",
   "source": [
    "# read fasta file\n",
    "from Bio import SeqIO\n",
    "import pandas as pd\n",
    "\n",
    "fasta_file = 'dataset/Case_2_SARS-CoV-2/uniprotkb_SARS_CoV_2_AND_reviewed_true_2024_09_23.fasta'\n",
    "\n",
    "fasta = list(SeqIO.parse(fasta_file, 'fasta'))\n",
    "seq = [str(fasta[i].seq) for i in range(len(fasta))]\n",
    "label = [fasta[i].description.split('|')[1] for i in range(len(fasta))]\n",
    "df = pd.DataFrame({'name': label, 'aa_seq': seq})\n",
    "df['length'] = df['aa_seq'].apply(len)\n",
    "df['label'] = 0\n",
    "le = df.length < 1024\n",
    "la = df.label == 1\n",
    "df = df[le | la]\n",
    "\n",
    "file2 = 'dataset/Case_2_SARS-CoV-2/NCBI_SARS-CoV-2_Data_Hub_RefSeq.fasta'\n",
    "\n",
    "fasta = list(SeqIO.parse(file2, 'fasta'))\n",
    "seq = [str(fasta[i].seq) for i in range(len(fasta))]\n",
    "label = [fasta[i].description.split(' ')[0] for i in range(len(fasta))]\n",
    "df2 = pd.DataFrame({'name': label, 'aa_seq': seq})\n",
    "df2['length'] = df2['aa_seq'].apply(len)\n",
    "df2['label'] = 1\n",
    "le = df2.length < 2048\n",
    "df2 = df2[le]\n",
    "df2.drop_duplicates(subset='aa_seq', keep='first', inplace=True)\n",
    "\n",
    "data = pd.concat([df, df2])\n",
    "data.drop_duplicates(subset='aa_seq', keep='last', inplace=True)\n",
    "\n",
    "\n",
    "data.to_json('dataset/Case_2_SARS-CoV-2/case.json', orient='records', lines=True)\n",
    "\n",
    "with open('dataset/Case_2_SARS-CoV-2/case.fasta', 'w') as f:\n",
    "    for i in range(len(data)):\n",
    "        f.write(f'>{data.iloc[i, 0]}\\n{data.iloc[i, 1]}\\n')\n",
    "data\n",
    "\n"
   ],
   "metadata": {
    "collapsed": false,
    "ExecuteTime": {
     "end_time": "2024-09-24T06:55:32.095140Z",
     "start_time": "2024-09-24T06:55:32.052446Z"
    }
   },
   "id": "f6cb8d5faf56b978",
   "outputs": [
    {
     "data": {
      "text/plain": [
       "              name                                             aa_seq  length  \\\n",
       "0       A0A0M3Q1Q3  MRRSGNYQAPVWNNDFIQSFSTDKYKDEKFLKKKEELIAQVKVLLN...     542   \n",
       "1       A0A2U1LIM9  MQSTTSVKLSPFDLMTALLNGKVSFDTSNTSDTNIPLAVFMENREL...     704   \n",
       "6           C5H429  MSENPPTLFSAYKMGNFNLSHRVVLAPMTRCRAINAIPNEALVEYY...     388   \n",
       "7           C5I9X1  MSSGANGSSKSASHKIKFTKLFINGEFVDSISGNTFDTINPATEEV...     499   \n",
       "8           E2E2P0  MATLSMQVSILSKEVKNVNNIGMRASKPMVARRVSTTRLRPICSAS...     594   \n",
       "..             ...                                                ...     ...   \n",
       "33  YP_009724393.1  MADSNGTITVEELKKLLEQWNLVIGFLFLTWICLLQFAYANRNRFL...     222   \n",
       "34  YP_009724394.1  MFHLVDFQVTIAEILLIIMRTFKVSIWNLDYIINLIIKNLSKSLTE...      61   \n",
       "35  YP_009724395.1  MKIILFLALITLATCELYHYQECVRGTTVLLKEPCSSGTYEGNSPF...     121   \n",
       "36  YP_009724396.1  MKFLVFLGIITTVAAFHQECSLQSCTQHQPYVVDDPCPIHFYSKWY...     121   \n",
       "37  YP_009724397.2  MSDNGPQNQRNAPRITFGGPSDSTGSNQNGERSGARSKQRRPQGLP...     419   \n",
       "\n",
       "    label  \n",
       "0       0  \n",
       "1       0  \n",
       "6       0  \n",
       "7       0  \n",
       "8       0  \n",
       "..    ...  \n",
       "33      1  \n",
       "34      1  \n",
       "35      1  \n",
       "36      1  \n",
       "37      1  \n",
       "\n",
       "[373 rows x 4 columns]"
      ],
      "text/html": [
       "<div>\n",
       "<style scoped>\n",
       "    .dataframe tbody tr th:only-of-type {\n",
       "        vertical-align: middle;\n",
       "    }\n",
       "\n",
       "    .dataframe tbody tr th {\n",
       "        vertical-align: top;\n",
       "    }\n",
       "\n",
       "    .dataframe thead th {\n",
       "        text-align: right;\n",
       "    }\n",
       "</style>\n",
       "<table border=\"1\" class=\"dataframe\">\n",
       "  <thead>\n",
       "    <tr style=\"text-align: right;\">\n",
       "      <th></th>\n",
       "      <th>name</th>\n",
       "      <th>aa_seq</th>\n",
       "      <th>length</th>\n",
       "      <th>label</th>\n",
       "    </tr>\n",
       "  </thead>\n",
       "  <tbody>\n",
       "    <tr>\n",
       "      <th>0</th>\n",
       "      <td>A0A0M3Q1Q3</td>\n",
       "      <td>MRRSGNYQAPVWNNDFIQSFSTDKYKDEKFLKKKEELIAQVKVLLN...</td>\n",
       "      <td>542</td>\n",
       "      <td>0</td>\n",
       "    </tr>\n",
       "    <tr>\n",
       "      <th>1</th>\n",
       "      <td>A0A2U1LIM9</td>\n",
       "      <td>MQSTTSVKLSPFDLMTALLNGKVSFDTSNTSDTNIPLAVFMENREL...</td>\n",
       "      <td>704</td>\n",
       "      <td>0</td>\n",
       "    </tr>\n",
       "    <tr>\n",
       "      <th>6</th>\n",
       "      <td>C5H429</td>\n",
       "      <td>MSENPPTLFSAYKMGNFNLSHRVVLAPMTRCRAINAIPNEALVEYY...</td>\n",
       "      <td>388</td>\n",
       "      <td>0</td>\n",
       "    </tr>\n",
       "    <tr>\n",
       "      <th>7</th>\n",
       "      <td>C5I9X1</td>\n",
       "      <td>MSSGANGSSKSASHKIKFTKLFINGEFVDSISGNTFDTINPATEEV...</td>\n",
       "      <td>499</td>\n",
       "      <td>0</td>\n",
       "    </tr>\n",
       "    <tr>\n",
       "      <th>8</th>\n",
       "      <td>E2E2P0</td>\n",
       "      <td>MATLSMQVSILSKEVKNVNNIGMRASKPMVARRVSTTRLRPICSAS...</td>\n",
       "      <td>594</td>\n",
       "      <td>0</td>\n",
       "    </tr>\n",
       "    <tr>\n",
       "      <th>...</th>\n",
       "      <td>...</td>\n",
       "      <td>...</td>\n",
       "      <td>...</td>\n",
       "      <td>...</td>\n",
       "    </tr>\n",
       "    <tr>\n",
       "      <th>33</th>\n",
       "      <td>YP_009724393.1</td>\n",
       "      <td>MADSNGTITVEELKKLLEQWNLVIGFLFLTWICLLQFAYANRNRFL...</td>\n",
       "      <td>222</td>\n",
       "      <td>1</td>\n",
       "    </tr>\n",
       "    <tr>\n",
       "      <th>34</th>\n",
       "      <td>YP_009724394.1</td>\n",
       "      <td>MFHLVDFQVTIAEILLIIMRTFKVSIWNLDYIINLIIKNLSKSLTE...</td>\n",
       "      <td>61</td>\n",
       "      <td>1</td>\n",
       "    </tr>\n",
       "    <tr>\n",
       "      <th>35</th>\n",
       "      <td>YP_009724395.1</td>\n",
       "      <td>MKIILFLALITLATCELYHYQECVRGTTVLLKEPCSSGTYEGNSPF...</td>\n",
       "      <td>121</td>\n",
       "      <td>1</td>\n",
       "    </tr>\n",
       "    <tr>\n",
       "      <th>36</th>\n",
       "      <td>YP_009724396.1</td>\n",
       "      <td>MKFLVFLGIITTVAAFHQECSLQSCTQHQPYVVDDPCPIHFYSKWY...</td>\n",
       "      <td>121</td>\n",
       "      <td>1</td>\n",
       "    </tr>\n",
       "    <tr>\n",
       "      <th>37</th>\n",
       "      <td>YP_009724397.2</td>\n",
       "      <td>MSDNGPQNQRNAPRITFGGPSDSTGSNQNGERSGARSKQRRPQGLP...</td>\n",
       "      <td>419</td>\n",
       "      <td>1</td>\n",
       "    </tr>\n",
       "  </tbody>\n",
       "</table>\n",
       "<p>373 rows × 4 columns</p>\n",
       "</div>"
      ]
     },
     "execution_count": 72,
     "metadata": {},
     "output_type": "execute_result"
    }
   ],
   "execution_count": 72
  },
  {
   "metadata": {
    "ExecuteTime": {
     "end_time": "2024-09-26T02:23:35.601840100Z",
     "start_time": "2024-09-26T02:23:35.547914900Z"
    }
   },
   "cell_type": "code",
   "source": [
    "import pandas as pd\n",
    "\n",
    "df = pd.read_csv('dataset/Case_2_SARS-CoV-2/ESMFold_esm2_t33_650M_UR50D_mean_5e-4_full_test_result.csv')\n",
    "df"
   ],
   "id": "d468723dd82e0ab1",
   "outputs": [
    {
     "data": {
      "text/plain": "              name                                             aa_seq  \\\n0   YP_009742617.1  AGNATEVPANSTVLSFCAFAVDAAKAYKDYLASGGQPITNCVKMLC...   \n1   YP_009742616.1  NNELSPVALRQMSCAAGTTQTACTDDNALAYYNTTKGGRFVLALLS...   \n2   YP_009742615.1  AIASEFSSLPSYAAFATAQEAYEQAVANGDSEVVLKKLKKSLNVAK...   \n3   YP_009742614.1  SKMSDVKCTSVVLLSVLQQLRVESSSKLWAQCVQLHNDILLAKDTT...   \n4   YP_009742613.1  SAVKRTIKGTHHWLLLTILTSLLVLVQSTQWSLFFFLYENAFLPFA...   \n5   YP_009742612.1  SGFRKMAFPSGKVEGCMVQVTCGTTTLNGLWLDDVVYCPRHVICTS...   \n6   YP_009742611.1  KIVNNWLKQLIKVTLVFLFVAAIFYLITPVHVMSKHTDFSSEIIGY...   \n7   YP_009742610.1  APTKVTFGDDTVIEVQGYKSVNITFELDERIDKVLNEKCSAYTVEL...   \n8   YP_009742609.1  AYTRYVDNNFCGPDGYPLECIKDLLARAGKASCTLSEQLDFIDTKR...   \n9   YP_009742608.1  MESLVPGFNEKTHVQLSLPVLQVRDVLVRGFGDSVEEVLSEARQHL...   \n10  YP_009725318.1        MIELSLIDFYLCFLAFLLFLVLIMLIIFWFSLELQDHNETCHA   \n11  YP_009725312.1                                      SADAQSFLNGFAV   \n12  YP_009725311.1  SSQAWQPGVAMPNLYKMQRMLLEKCDLQNYGDSATLPKGIMMNVAK...   \n13  YP_009725310.1  SLENVAFNVVNKGHFDGQQGEVPVSIINNTVYTKVDGVDVELFENK...   \n14  YP_009725309.1  AENVTGLFKDCSKVITGLHPTQAPTHLSVDTKFKTEGLCVDIPGIP...   \n15  YP_009725308.1  AVGACVLCNSQTSLRCGACIRRPFLCCKCCYDHVISTSHKLVLSVN...   \n16  YP_009725307.1  SADAQSFLNRVCGVSAARLTPCGTGTSTDVVYRAFDIYNDKVAGFA...   \n17  YP_009725255.1             MGYINVFAFPFTIYSLLLCRMNSRNYIAQVDVVNFNLT   \n18  YP_009724397.2  MSDNGPQNQRNAPRITFGGPSDSTGSNQNGERSGARSKQRRPQGLP...   \n19  YP_009724396.1  MKFLVFLGIITTVAAFHQECSLQSCTQHQPYVVDDPCPIHFYSKWY...   \n20  YP_009724395.1  MKIILFLALITLATCELYHYQECVRGTTVLLKEPCSSGTYEGNSPF...   \n21  YP_009724394.1  MFHLVDFQVTIAEILLIIMRTFKVSIWNLDYIINLIIKNLSKSLTE...   \n22  YP_009724393.1  MADSNGTITVEELKKLLEQWNLVIGFLFLTWICLLQFAYANRNRFL...   \n23  YP_009724392.1  MYSFVSEETGTLIVNSVLLFLAFVVFLLVTLAILTALRLCAYCCNI...   \n24  YP_009724391.1  MDLFMRIFTIGTVTLKQGEIKDATPSDFVRATATIPIQASLPFGWL...   \n25  YP_009724390.1  MFVFLVLLPLVSSQCVNLTTRTQLPPAYTNSFTRGVYYPDKVFRSS...   \n\n                                         foldseek_seq  length  label  \\\n0   DPPPPPQDPPHPPPSLPVVQVVVLVVVVVCVVVVNPQDQPPPLPQP...     139      1   \n1   DFWDFQAWADEADPPVPPPPPPPVDAWHQYFDQDPPPRFTWTKIKH...     113      1   \n2   DPPPVCVPFPLVVQLVVLVVVLVVCVVVVHDPVVNVVSVVSNVVSV...     198      1   \n3   DLLVVLLVVLVLLLVVVVVLVPDDDPVLNVLSVVLSVQSVPPPDNV...      83      1   \n4   DVVVVVVVVVVVVVVVLVVVVVLVVVVVVVVVVPVVVPVPDVPLLV...     290      1   \n5   DDWDQDPDCPVLFLQQKKWKAWDPAIAIWGAAFQKTKFFLCSLPDP...     306      1   \n6   DVVVVVVVVVVVVVVVVVVCVVVLVVVLPCVVVPPVPVLVLPLPFW...     500      1   \n7   DDDQDDDPPDRDPPPQDWQKAFEQEPADLVCSVVCSVQLGIDTHGD...    1945      1   \n8   DPLDDDPPPQDDLHRDDVVCCVVVVVVVVDDPQDVVSVVVQPPVPQ...     638      1   \n9   DPPPDPPDDPPDDPPPPPVPPPLVPAAPAPDDCEPVSLVVVVVVCV...     180      1   \n10        DVVCVVVVVVVVVVVVVVVVVVVVVVVVVVVVVVVVVVVVVVD      43      1   \n11                                      DVVVVVVVVVVVD      13      1   \n12  DQPFDPLVDPQPDLVVLVVVVVVVVPCVVVPDPVDPVLQLSLLSQQ...     298      1   \n13  DLQVLLVPQPPADDAPDDPDPFDWDDDPQWIWTDHVNDTDTDDHPP...     346      1   \n14  DPPLVVVVVCVCVVVVVVPPDDPPPDDDPPPPPPPPPPPPPPPPAD...     527      1   \n15  DWAAAPPPRFIAQKFQPQDLVSGDHDPVRVVVVCVVQVRPGIAGDD...     601      1   \n16  DCVVVVVVVQQPPPPPDDDDDDDDDPDPPQVPDPVVPDDPPDPPPV...     932      1   \n17             DDPPPPVPDPPVVVVVVQVPPPPPDDDSPPPPPPPPPD      38      1   \n18  DPCPPPPPPPPDPPPPPPPPPVPPPPPPDDPPPFDPPPPVPPPQDP...     419      1   \n19  DCPPCVVVCPVVPVLQQKFWFWDDVPDDDTPGPVDSPSPDDDPWPQ...     121      1   \n20  DVVVVVVVVVVLPLQEAEAEDEDAQQDKDKDAAPDPDWDKDDPFDW...     121      1   \n21  DPPCPDCPVPLVNVLVVCCVPVVDDPVCSVVVSVVVVVVVVCVVVV...      61      1   \n22  DQPPVNDQDPVNVVVVLLVLCVLVVLLVVLVVLLVVVVVQVPAPVS...     222      1   \n23  DPPPVCPVVVVVVVVVVVVVVVVVVVVVVVVVVVVVVVVVCVVVVV...      75      1   \n24  DVVVVVVLCVPVPPPPPPPPPDDDPVNSCQVSQVVCLVVVPVVLVV...     275      1   \n25  DDDDDDDDDPPDDDQDDPPFEDDDDWDWDFPAQDFAADPDPDFDAQ...    1273      1   \n\n    pred_label  pred_proba  \n0            1    0.999981  \n1            1    0.999535  \n2            0    0.046851  \n3            1    0.994470  \n4            0    0.106912  \n5            1    0.998149  \n6            0    0.493510  \n7            1    0.996608  \n8            1    0.998784  \n9            0    0.149675  \n10           0    0.000003  \n11           1    0.996859  \n12           0    0.000259  \n13           1    0.767852  \n14           0    0.021509  \n15           0    0.140146  \n16           1    0.864433  \n17           0    0.000001  \n18           1    0.995327  \n19           1    0.996818  \n20           1    0.941068  \n21           0    0.000004  \n22           0    0.000066  \n23           0    0.000012  \n24           0    0.462855  \n25           1    0.999991  ",
      "text/html": "<div>\n<style scoped>\n    .dataframe tbody tr th:only-of-type {\n        vertical-align: middle;\n    }\n\n    .dataframe tbody tr th {\n        vertical-align: top;\n    }\n\n    .dataframe thead th {\n        text-align: right;\n    }\n</style>\n<table border=\"1\" class=\"dataframe\">\n  <thead>\n    <tr style=\"text-align: right;\">\n      <th></th>\n      <th>name</th>\n      <th>aa_seq</th>\n      <th>foldseek_seq</th>\n      <th>length</th>\n      <th>label</th>\n      <th>pred_label</th>\n      <th>pred_proba</th>\n    </tr>\n  </thead>\n  <tbody>\n    <tr>\n      <th>0</th>\n      <td>YP_009742617.1</td>\n      <td>AGNATEVPANSTVLSFCAFAVDAAKAYKDYLASGGQPITNCVKMLC...</td>\n      <td>DPPPPPQDPPHPPPSLPVVQVVVLVVVVVCVVVVNPQDQPPPLPQP...</td>\n      <td>139</td>\n      <td>1</td>\n      <td>1</td>\n      <td>0.999981</td>\n    </tr>\n    <tr>\n      <th>1</th>\n      <td>YP_009742616.1</td>\n      <td>NNELSPVALRQMSCAAGTTQTACTDDNALAYYNTTKGGRFVLALLS...</td>\n      <td>DFWDFQAWADEADPPVPPPPPPPVDAWHQYFDQDPPPRFTWTKIKH...</td>\n      <td>113</td>\n      <td>1</td>\n      <td>1</td>\n      <td>0.999535</td>\n    </tr>\n    <tr>\n      <th>2</th>\n      <td>YP_009742615.1</td>\n      <td>AIASEFSSLPSYAAFATAQEAYEQAVANGDSEVVLKKLKKSLNVAK...</td>\n      <td>DPPPVCVPFPLVVQLVVLVVVLVVCVVVVHDPVVNVVSVVSNVVSV...</td>\n      <td>198</td>\n      <td>1</td>\n      <td>0</td>\n      <td>0.046851</td>\n    </tr>\n    <tr>\n      <th>3</th>\n      <td>YP_009742614.1</td>\n      <td>SKMSDVKCTSVVLLSVLQQLRVESSSKLWAQCVQLHNDILLAKDTT...</td>\n      <td>DLLVVLLVVLVLLLVVVVVLVPDDDPVLNVLSVVLSVQSVPPPDNV...</td>\n      <td>83</td>\n      <td>1</td>\n      <td>1</td>\n      <td>0.994470</td>\n    </tr>\n    <tr>\n      <th>4</th>\n      <td>YP_009742613.1</td>\n      <td>SAVKRTIKGTHHWLLLTILTSLLVLVQSTQWSLFFFLYENAFLPFA...</td>\n      <td>DVVVVVVVVVVVVVVVLVVVVVLVVVVVVVVVVPVVVPVPDVPLLV...</td>\n      <td>290</td>\n      <td>1</td>\n      <td>0</td>\n      <td>0.106912</td>\n    </tr>\n    <tr>\n      <th>5</th>\n      <td>YP_009742612.1</td>\n      <td>SGFRKMAFPSGKVEGCMVQVTCGTTTLNGLWLDDVVYCPRHVICTS...</td>\n      <td>DDWDQDPDCPVLFLQQKKWKAWDPAIAIWGAAFQKTKFFLCSLPDP...</td>\n      <td>306</td>\n      <td>1</td>\n      <td>1</td>\n      <td>0.998149</td>\n    </tr>\n    <tr>\n      <th>6</th>\n      <td>YP_009742611.1</td>\n      <td>KIVNNWLKQLIKVTLVFLFVAAIFYLITPVHVMSKHTDFSSEIIGY...</td>\n      <td>DVVVVVVVVVVVVVVVVVVCVVVLVVVLPCVVVPPVPVLVLPLPFW...</td>\n      <td>500</td>\n      <td>1</td>\n      <td>0</td>\n      <td>0.493510</td>\n    </tr>\n    <tr>\n      <th>7</th>\n      <td>YP_009742610.1</td>\n      <td>APTKVTFGDDTVIEVQGYKSVNITFELDERIDKVLNEKCSAYTVEL...</td>\n      <td>DDDQDDDPPDRDPPPQDWQKAFEQEPADLVCSVVCSVQLGIDTHGD...</td>\n      <td>1945</td>\n      <td>1</td>\n      <td>1</td>\n      <td>0.996608</td>\n    </tr>\n    <tr>\n      <th>8</th>\n      <td>YP_009742609.1</td>\n      <td>AYTRYVDNNFCGPDGYPLECIKDLLARAGKASCTLSEQLDFIDTKR...</td>\n      <td>DPLDDDPPPQDDLHRDDVVCCVVVVVVVVDDPQDVVSVVVQPPVPQ...</td>\n      <td>638</td>\n      <td>1</td>\n      <td>1</td>\n      <td>0.998784</td>\n    </tr>\n    <tr>\n      <th>9</th>\n      <td>YP_009742608.1</td>\n      <td>MESLVPGFNEKTHVQLSLPVLQVRDVLVRGFGDSVEEVLSEARQHL...</td>\n      <td>DPPPDPPDDPPDDPPPPPVPPPLVPAAPAPDDCEPVSLVVVVVVCV...</td>\n      <td>180</td>\n      <td>1</td>\n      <td>0</td>\n      <td>0.149675</td>\n    </tr>\n    <tr>\n      <th>10</th>\n      <td>YP_009725318.1</td>\n      <td>MIELSLIDFYLCFLAFLLFLVLIMLIIFWFSLELQDHNETCHA</td>\n      <td>DVVCVVVVVVVVVVVVVVVVVVVVVVVVVVVVVVVVVVVVVVD</td>\n      <td>43</td>\n      <td>1</td>\n      <td>0</td>\n      <td>0.000003</td>\n    </tr>\n    <tr>\n      <th>11</th>\n      <td>YP_009725312.1</td>\n      <td>SADAQSFLNGFAV</td>\n      <td>DVVVVVVVVVVVD</td>\n      <td>13</td>\n      <td>1</td>\n      <td>1</td>\n      <td>0.996859</td>\n    </tr>\n    <tr>\n      <th>12</th>\n      <td>YP_009725311.1</td>\n      <td>SSQAWQPGVAMPNLYKMQRMLLEKCDLQNYGDSATLPKGIMMNVAK...</td>\n      <td>DQPFDPLVDPQPDLVVLVVVVVVVVPCVVVPDPVDPVLQLSLLSQQ...</td>\n      <td>298</td>\n      <td>1</td>\n      <td>0</td>\n      <td>0.000259</td>\n    </tr>\n    <tr>\n      <th>13</th>\n      <td>YP_009725310.1</td>\n      <td>SLENVAFNVVNKGHFDGQQGEVPVSIINNTVYTKVDGVDVELFENK...</td>\n      <td>DLQVLLVPQPPADDAPDDPDPFDWDDDPQWIWTDHVNDTDTDDHPP...</td>\n      <td>346</td>\n      <td>1</td>\n      <td>1</td>\n      <td>0.767852</td>\n    </tr>\n    <tr>\n      <th>14</th>\n      <td>YP_009725309.1</td>\n      <td>AENVTGLFKDCSKVITGLHPTQAPTHLSVDTKFKTEGLCVDIPGIP...</td>\n      <td>DPPLVVVVVCVCVVVVVVPPDDPPPDDDPPPPPPPPPPPPPPPPAD...</td>\n      <td>527</td>\n      <td>1</td>\n      <td>0</td>\n      <td>0.021509</td>\n    </tr>\n    <tr>\n      <th>15</th>\n      <td>YP_009725308.1</td>\n      <td>AVGACVLCNSQTSLRCGACIRRPFLCCKCCYDHVISTSHKLVLSVN...</td>\n      <td>DWAAAPPPRFIAQKFQPQDLVSGDHDPVRVVVVCVVQVRPGIAGDD...</td>\n      <td>601</td>\n      <td>1</td>\n      <td>0</td>\n      <td>0.140146</td>\n    </tr>\n    <tr>\n      <th>16</th>\n      <td>YP_009725307.1</td>\n      <td>SADAQSFLNRVCGVSAARLTPCGTGTSTDVVYRAFDIYNDKVAGFA...</td>\n      <td>DCVVVVVVVQQPPPPPDDDDDDDDDPDPPQVPDPVVPDDPPDPPPV...</td>\n      <td>932</td>\n      <td>1</td>\n      <td>1</td>\n      <td>0.864433</td>\n    </tr>\n    <tr>\n      <th>17</th>\n      <td>YP_009725255.1</td>\n      <td>MGYINVFAFPFTIYSLLLCRMNSRNYIAQVDVVNFNLT</td>\n      <td>DDPPPPVPDPPVVVVVVQVPPPPPDDDSPPPPPPPPPD</td>\n      <td>38</td>\n      <td>1</td>\n      <td>0</td>\n      <td>0.000001</td>\n    </tr>\n    <tr>\n      <th>18</th>\n      <td>YP_009724397.2</td>\n      <td>MSDNGPQNQRNAPRITFGGPSDSTGSNQNGERSGARSKQRRPQGLP...</td>\n      <td>DPCPPPPPPPPDPPPPPPPPPVPPPPPPDDPPPFDPPPPVPPPQDP...</td>\n      <td>419</td>\n      <td>1</td>\n      <td>1</td>\n      <td>0.995327</td>\n    </tr>\n    <tr>\n      <th>19</th>\n      <td>YP_009724396.1</td>\n      <td>MKFLVFLGIITTVAAFHQECSLQSCTQHQPYVVDDPCPIHFYSKWY...</td>\n      <td>DCPPCVVVCPVVPVLQQKFWFWDDVPDDDTPGPVDSPSPDDDPWPQ...</td>\n      <td>121</td>\n      <td>1</td>\n      <td>1</td>\n      <td>0.996818</td>\n    </tr>\n    <tr>\n      <th>20</th>\n      <td>YP_009724395.1</td>\n      <td>MKIILFLALITLATCELYHYQECVRGTTVLLKEPCSSGTYEGNSPF...</td>\n      <td>DVVVVVVVVVVLPLQEAEAEDEDAQQDKDKDAAPDPDWDKDDPFDW...</td>\n      <td>121</td>\n      <td>1</td>\n      <td>1</td>\n      <td>0.941068</td>\n    </tr>\n    <tr>\n      <th>21</th>\n      <td>YP_009724394.1</td>\n      <td>MFHLVDFQVTIAEILLIIMRTFKVSIWNLDYIINLIIKNLSKSLTE...</td>\n      <td>DPPCPDCPVPLVNVLVVCCVPVVDDPVCSVVVSVVVVVVVVCVVVV...</td>\n      <td>61</td>\n      <td>1</td>\n      <td>0</td>\n      <td>0.000004</td>\n    </tr>\n    <tr>\n      <th>22</th>\n      <td>YP_009724393.1</td>\n      <td>MADSNGTITVEELKKLLEQWNLVIGFLFLTWICLLQFAYANRNRFL...</td>\n      <td>DQPPVNDQDPVNVVVVLLVLCVLVVLLVVLVVLLVVVVVQVPAPVS...</td>\n      <td>222</td>\n      <td>1</td>\n      <td>0</td>\n      <td>0.000066</td>\n    </tr>\n    <tr>\n      <th>23</th>\n      <td>YP_009724392.1</td>\n      <td>MYSFVSEETGTLIVNSVLLFLAFVVFLLVTLAILTALRLCAYCCNI...</td>\n      <td>DPPPVCPVVVVVVVVVVVVVVVVVVVVVVVVVVVVVVVVVCVVVVV...</td>\n      <td>75</td>\n      <td>1</td>\n      <td>0</td>\n      <td>0.000012</td>\n    </tr>\n    <tr>\n      <th>24</th>\n      <td>YP_009724391.1</td>\n      <td>MDLFMRIFTIGTVTLKQGEIKDATPSDFVRATATIPIQASLPFGWL...</td>\n      <td>DVVVVVVLCVPVPPPPPPPPPDDDPVNSCQVSQVVCLVVVPVVLVV...</td>\n      <td>275</td>\n      <td>1</td>\n      <td>0</td>\n      <td>0.462855</td>\n    </tr>\n    <tr>\n      <th>25</th>\n      <td>YP_009724390.1</td>\n      <td>MFVFLVLLPLVSSQCVNLTTRTQLPPAYTNSFTRGVYYPDKVFRSS...</td>\n      <td>DDDDDDDDDPPDDDQDDPPFEDDDDWDWDFPAQDFAADPDPDFDAQ...</td>\n      <td>1273</td>\n      <td>1</td>\n      <td>1</td>\n      <td>0.999991</td>\n    </tr>\n  </tbody>\n</table>\n</div>"
     },
     "execution_count": 12,
     "metadata": {},
     "output_type": "execute_result"
    }
   ],
   "execution_count": 12
  },
  {
   "cell_type": "code",
   "execution_count": 23,
   "outputs": [
    {
     "data": {
      "text/plain": "              name                                           aa_seq_x  \\\n0   YP_009742608.1  MESLVPGFNEKTHVQLSLPVLQVRDVLVRGFGDSVEEVLSEARQHL...   \n1   YP_009742609.1  AYTRYVDNNFCGPDGYPLECIKDLLARAGKASCTLSEQLDFIDTKR...   \n2   YP_009742610.1  APTKVTFGDDTVIEVQGYKSVNITFELDERIDKVLNEKCSAYTVEL...   \n3   YP_009742611.1  KIVNNWLKQLIKVTLVFLFVAAIFYLITPVHVMSKHTDFSSEIIGY...   \n4   YP_009742612.1  SGFRKMAFPSGKVEGCMVQVTCGTTTLNGLWLDDVVYCPRHVICTS...   \n5   YP_009742613.1  SAVKRTIKGTHHWLLLTILTSLLVLVQSTQWSLFFFLYENAFLPFA...   \n6   YP_009742614.1  SKMSDVKCTSVVLLSVLQQLRVESSSKLWAQCVQLHNDILLAKDTT...   \n7   YP_009742615.1  AIASEFSSLPSYAAFATAQEAYEQAVANGDSEVVLKKLKKSLNVAK...   \n8   YP_009742616.1  NNELSPVALRQMSCAAGTTQTACTDDNALAYYNTTKGGRFVLALLS...   \n9   YP_009742617.1  AGNATEVPANSTVLSFCAFAVDAAKAYKDYLASGGQPITNCVKMLC...   \n10  YP_009725318.1        MIELSLIDFYLCFLAFLLFLVLIMLIIFWFSLELQDHNETCHA   \n11  YP_009725307.1  SADAQSFLNRVCGVSAARLTPCGTGTSTDVVYRAFDIYNDKVAGFA...   \n12  YP_009725308.1  AVGACVLCNSQTSLRCGACIRRPFLCCKCCYDHVISTSHKLVLSVN...   \n13  YP_009725309.1  AENVTGLFKDCSKVITGLHPTQAPTHLSVDTKFKTEGLCVDIPGIP...   \n14  YP_009725310.1  SLENVAFNVVNKGHFDGQQGEVPVSIINNTVYTKVDGVDVELFENK...   \n15  YP_009725311.1  SSQAWQPGVAMPNLYKMQRMLLEKCDLQNYGDSATLPKGIMMNVAK...   \n16  YP_009725312.1                                      SADAQSFLNGFAV   \n17  YP_009725255.1             MGYINVFAFPFTIYSLLLCRMNSRNYIAQVDVVNFNLT   \n18  YP_009724390.1  MFVFLVLLPLVSSQCVNLTTRTQLPPAYTNSFTRGVYYPDKVFRSS...   \n19  YP_009724391.1  MDLFMRIFTIGTVTLKQGEIKDATPSDFVRATATIPIQASLPFGWL...   \n20  YP_009724392.1  MYSFVSEETGTLIVNSVLLFLAFVVFLLVTLAILTALRLCAYCCNI...   \n21  YP_009724393.1  MADSNGTITVEELKKLLEQWNLVIGFLFLTWICLLQFAYANRNRFL...   \n22  YP_009724394.1  MFHLVDFQVTIAEILLIIMRTFKVSIWNLDYIINLIIKNLSKSLTE...   \n23  YP_009724395.1  MKIILFLALITLATCELYHYQECVRGTTVLLKEPCSSGTYEGNSPF...   \n24  YP_009724396.1  MKFLVFLGIITTVAAFHQECSLQSCTQHQPYVVDDPCPIHFYSKWY...   \n25  YP_009724397.2  MSDNGPQNQRNAPRITFGGPSDSTGSNQNGERSGARSKQRRPQGLP...   \n\n                                       foldseek_seq_x  length_x  label_x  \\\n0   DPPPDPPDDPPDDPPPPPVPPPLVPAAPAPDDCEPVSLVVVVVVCV...       180        1   \n1   DPLDDDPPPQDDLHRDDVVCCVVVVVVVVDDPQDVVSVVVQPPVPQ...       638        1   \n2   DDDQDDDPPDRDPPPQDWQKAFEQEPADLVCSVVCSVQLGIDTHGD...      1945        1   \n3   DVVVVVVVVVVVVVVVVVVCVVVLVVVLPCVVVPPVPVLVLPLPFW...       500        1   \n4   DDWDQDPDCPVLFLQQKKWKAWDPAIAIWGAAFQKTKFFLCSLPDP...       306        1   \n5   DVVVVVVVVVVVVVVVLVVVVVLVVVVVVVVVVPVVVPVPDVPLLV...       290        1   \n6   DLLVVLLVVLVLLLVVVVVLVPDDDPVLNVLSVVLSVQSVPPPDNV...        83        1   \n7   DPPPVCVPFPLVVQLVVLVVVLVVCVVVVHDPVVNVVSVVSNVVSV...       198        1   \n8   DFWDFQAWADEADPPVPPPPPPPVDAWHQYFDQDPPPRFTWTKIKH...       113        1   \n9   DPPPPPQDPPHPPPSLPVVQVVVLVVVVVCVVVVNPQDQPPPLPQP...       139        1   \n10        DVVCVVVVVVVVVVVVVVVVVVVVVVVVVVVVVVVVVVVVVVD        43        1   \n11  DCVVVVVVVQQPPPPPDDDDDDDDDPDPPQVPDPVVPDDPPDPPPV...       932        1   \n12  DWAAAPPPRFIAQKFQPQDLVSGDHDPVRVVVVCVVQVRPGIAGDD...       601        1   \n13  DPPLVVVVVCVCVVVVVVPPDDPPPDDDPPPPPPPPPPPPPPPPAD...       527        1   \n14  DLQVLLVPQPPADDAPDDPDPFDWDDDPQWIWTDHVNDTDTDDHPP...       346        1   \n15  DQPFDPLVDPQPDLVVLVVVVVVVVPCVVVPDPVDPVLQLSLLSQQ...       298        1   \n16                                      DVVVVVVVVVVVD        13        1   \n17             DDPPPPVPDPPVVVVVVQVPPPPPDDDSPPPPPPPPPD        38        1   \n18  DDDDDDDDDPPDDDQDDPPFEDDDDWDWDFPAQDFAADPDPDFDAQ...      1273        1   \n19  DVVVVVVLCVPVPPPPPPPPPDDDPVNSCQVSQVVCLVVVPVVLVV...       275        1   \n20  DPPPVCPVVVVVVVVVVVVVVVVVVVVVVVVVVVVVVVVVCVVVVV...        75        1   \n21  DQPPVNDQDPVNVVVVLLVLCVLVVLLVVLVVLLVVVVVQVPAPVS...       222        1   \n22  DPPCPDCPVPLVNVLVVCCVPVVDDPVCSVVVSVVVVVVVVCVVVV...        61        1   \n23  DVVVVVVVVVVLPLQEAEAEDEDAQQDKDKDAAPDPDWDKDDPFDW...       121        1   \n24  DCPPCVVVCPVVPVLQQKFWFWDDVPDDDTPGPVDSPSPDDDPWPQ...       121        1   \n25  DPCPPPPPPPPDPPPPPPPPPVPPPPPPDDPPPFDPPPPVPPPQDP...       419        1   \n\n                                             aa_seq_y  \\\n0   MESLVPGFNEKTHVQLSLPVLQVRDVLVRGFGDSVEEVLSEARQHL...   \n1   AYTRYVDNNFCGPDGYPLECIKDLLARAGKASCTLSEQLDFIDTKR...   \n2   APTKVTFGDDTVIEVQGYKSVNITFELDERIDKVLNEKCSAYTVEL...   \n3   KIVNNWLKQLIKVTLVFLFVAAIFYLITPVHVMSKHTDFSSEIIGY...   \n4   SGFRKMAFPSGKVEGCMVQVTCGTTTLNGLWLDDVVYCPRHVICTS...   \n5   SAVKRTIKGTHHWLLLTILTSLLVLVQSTQWSLFFFLYENAFLPFA...   \n6   SKMSDVKCTSVVLLSVLQQLRVESSSKLWAQCVQLHNDILLAKDTT...   \n7   AIASEFSSLPSYAAFATAQEAYEQAVANGDSEVVLKKLKKSLNVAK...   \n8   NNELSPVALRQMSCAAGTTQTACTDDNALAYYNTTKGGRFVLALLS...   \n9   AGNATEVPANSTVLSFCAFAVDAAKAYKDYLASGGQPITNCVKMLC...   \n10        MIELSLIDFYLCFLAFLLFLVLIMLIIFWFSLELQDHNETCHA   \n11  SADAQSFLNRVCGVSAARLTPCGTGTSTDVVYRAFDIYNDKVAGFA...   \n12  AVGACVLCNSQTSLRCGACIRRPFLCCKCCYDHVISTSHKLVLSVN...   \n13  AENVTGLFKDCSKVITGLHPTQAPTHLSVDTKFKTEGLCVDIPGIP...   \n14  SLENVAFNVVNKGHFDGQQGEVPVSIINNTVYTKVDGVDVELFENK...   \n15  SSQAWQPGVAMPNLYKMQRMLLEKCDLQNYGDSATLPKGIMMNVAK...   \n16                                      SADAQSFLNGFAV   \n17             MGYINVFAFPFTIYSLLLCRMNSRNYIAQVDVVNFNLT   \n18  MFVFLVLLPLVSSQCVNLTTRTQLPPAYTNSFTRGVYYPDKVFRSS...   \n19  MDLFMRIFTIGTVTLKQGEIKDATPSDFVRATATIPIQASLPFGWL...   \n20  MYSFVSEETGTLIVNSVLLFLAFVVFLLVTLAILTALRLCAYCCNI...   \n21  MADSNGTITVEELKKLLEQWNLVIGFLFLTWICLLQFAYANRNRFL...   \n22  MFHLVDFQVTIAEILLIIMRTFKVSIWNLDYIINLIIKNLSKSLTE...   \n23  MKIILFLALITLATCELYHYQECVRGTTVLLKEPCSSGTYEGNSPF...   \n24  MKFLVFLGIITTVAAFHQECSLQSCTQHQPYVVDDPCPIHFYSKWY...   \n25  MSDNGPQNQRNAPRITFGGPSDSTGSNQNGERSGARSKQRRPQGLP...   \n\n                                       foldseek_seq_y  length_y  label_y  \\\n0   DPPPDPPDDPPDDPPPPPVPPPLVPAAPAPDDCEPVSLVVVVVVCV...       180        1   \n1   DPLDDDPPPQDDLHRDDVVCCVVVVVVVVDDPQDVVSVVVQPPVPQ...       638        1   \n2   DDDQDDDPPDRDPPPQDWQKAFEQEPADLVCSVVCSVQLGIDTHGD...      1945        1   \n3   DVVVVVVVVVVVVVVVVVVCVVVLVVVLPCVVVPPVPVLVLPLPFW...       500        1   \n4   DDWDQDPDCPVLFLQQKKWKAWDPAIAIWGAAFQKTKFFLCSLPDP...       306        1   \n5   DVVVVVVVVVVVVVVVLVVVVVLVVVVVVVVVVPVVVPVPDVPLLV...       290        1   \n6   DLLVVLLVVLVLLLVVVVVLVPDDDPVLNVLSVVLSVQSVPPPDNV...        83        1   \n7   DPPPVCVPFPLVVQLVVLVVVLVVCVVVVHDPVVNVVSVVSNVVSV...       198        1   \n8   DFWDFQAWADEADPPVPPPPPPPVDAWHQYFDQDPPPRFTWTKIKH...       113        1   \n9   DPPPPPQDPPHPPPSLPVVQVVVLVVVVVCVVVVNPQDQPPPLPQP...       139        1   \n10        DVVCVVVVVVVVVVVVVVVVVVVVVVVVVVVVVVVVVVVVVVD        43        1   \n11  DCVVVVVVVQQPPPPPDDDDDDDDDPDPPQVPDPVVPDDPPDPPPV...       932        1   \n12  DWAAAPPPRFIAQKFQPQDLVSGDHDPVRVVVVCVVQVRPGIAGDD...       601        1   \n13  DPPLVVVVVCVCVVVVVVPPDDPPPDDDPPPPPPPPPPPPPPPPAD...       527        1   \n14  DLQVLLVPQPPADDAPDDPDPFDWDDDPQWIWTDHVNDTDTDDHPP...       346        1   \n15  DQPFDPLVDPQPDLVVLVVVVVVVVPCVVVPDPVDPVLQLSLLSQQ...       298        1   \n16                                      DVVVVVVVVVVVD        13        1   \n17             DDPPPPVPDPPVVVVVVQVPPPPPDDDSPPPPPPPPPD        38        1   \n18  DDDDDDDDDPPDDDQDDPPFEDDDDWDWDFPAQDFAADPDPDFDAQ...      1273        1   \n19  DVVVVVVLCVPVPPPPPPPPPDDDPVNSCQVSQVVCLVVVPVVLVV...       275        1   \n20  DPPPVCPVVVVVVVVVVVVVVVVVVVVVVVVVVVVVVVVVCVVVVV...        75        1   \n21  DQPPVNDQDPVNVVVVLLVLCVLVVLLVVLVVLLVVVVVQVPAPVS...       222        1   \n22  DPPCPDCPVPLVNVLVVCCVPVVDDPVCSVVVSVVVVVVVVCVVVV...        61        1   \n23  DVVVVVVVVVVLPLQEAEAEDEDAQQDKDKDAAPDPDWDKDDPFDW...       121        1   \n24  DCPPCVVVCPVVPVLQQKFWFWDDVPDDDTPGPVDSPSPDDDPWPQ...       121        1   \n25  DPCPPPPPPPPDPPPPPPPPPVPPPPPPDDPPPFDPPPPVPPPQDP...       419        1   \n\n    pred_label  pred_proba  \n0            0    0.149675  \n1            1    0.998784  \n2            1    0.996608  \n3            0    0.493510  \n4            1    0.998149  \n5            0    0.106912  \n6            1    0.994470  \n7            0    0.046851  \n8            1    0.999535  \n9            1    0.999981  \n10           0    0.000003  \n11           1    0.864433  \n12           0    0.140146  \n13           0    0.021509  \n14           1    0.767852  \n15           0    0.000259  \n16           1    0.996859  \n17           0    0.000001  \n18           1    0.999991  \n19           0    0.462855  \n20           0    0.000012  \n21           0    0.000066  \n22           0    0.000004  \n23           1    0.941068  \n24           1    0.996818  \n25           1    0.995327  ",
      "text/html": "<div>\n<style scoped>\n    .dataframe tbody tr th:only-of-type {\n        vertical-align: middle;\n    }\n\n    .dataframe tbody tr th {\n        vertical-align: top;\n    }\n\n    .dataframe thead th {\n        text-align: right;\n    }\n</style>\n<table border=\"1\" class=\"dataframe\">\n  <thead>\n    <tr style=\"text-align: right;\">\n      <th></th>\n      <th>name</th>\n      <th>aa_seq_x</th>\n      <th>foldseek_seq_x</th>\n      <th>length_x</th>\n      <th>label_x</th>\n      <th>aa_seq_y</th>\n      <th>foldseek_seq_y</th>\n      <th>length_y</th>\n      <th>label_y</th>\n      <th>pred_label</th>\n      <th>pred_proba</th>\n    </tr>\n  </thead>\n  <tbody>\n    <tr>\n      <th>0</th>\n      <td>YP_009742608.1</td>\n      <td>MESLVPGFNEKTHVQLSLPVLQVRDVLVRGFGDSVEEVLSEARQHL...</td>\n      <td>DPPPDPPDDPPDDPPPPPVPPPLVPAAPAPDDCEPVSLVVVVVVCV...</td>\n      <td>180</td>\n      <td>1</td>\n      <td>MESLVPGFNEKTHVQLSLPVLQVRDVLVRGFGDSVEEVLSEARQHL...</td>\n      <td>DPPPDPPDDPPDDPPPPPVPPPLVPAAPAPDDCEPVSLVVVVVVCV...</td>\n      <td>180</td>\n      <td>1</td>\n      <td>0</td>\n      <td>0.149675</td>\n    </tr>\n    <tr>\n      <th>1</th>\n      <td>YP_009742609.1</td>\n      <td>AYTRYVDNNFCGPDGYPLECIKDLLARAGKASCTLSEQLDFIDTKR...</td>\n      <td>DPLDDDPPPQDDLHRDDVVCCVVVVVVVVDDPQDVVSVVVQPPVPQ...</td>\n      <td>638</td>\n      <td>1</td>\n      <td>AYTRYVDNNFCGPDGYPLECIKDLLARAGKASCTLSEQLDFIDTKR...</td>\n      <td>DPLDDDPPPQDDLHRDDVVCCVVVVVVVVDDPQDVVSVVVQPPVPQ...</td>\n      <td>638</td>\n      <td>1</td>\n      <td>1</td>\n      <td>0.998784</td>\n    </tr>\n    <tr>\n      <th>2</th>\n      <td>YP_009742610.1</td>\n      <td>APTKVTFGDDTVIEVQGYKSVNITFELDERIDKVLNEKCSAYTVEL...</td>\n      <td>DDDQDDDPPDRDPPPQDWQKAFEQEPADLVCSVVCSVQLGIDTHGD...</td>\n      <td>1945</td>\n      <td>1</td>\n      <td>APTKVTFGDDTVIEVQGYKSVNITFELDERIDKVLNEKCSAYTVEL...</td>\n      <td>DDDQDDDPPDRDPPPQDWQKAFEQEPADLVCSVVCSVQLGIDTHGD...</td>\n      <td>1945</td>\n      <td>1</td>\n      <td>1</td>\n      <td>0.996608</td>\n    </tr>\n    <tr>\n      <th>3</th>\n      <td>YP_009742611.1</td>\n      <td>KIVNNWLKQLIKVTLVFLFVAAIFYLITPVHVMSKHTDFSSEIIGY...</td>\n      <td>DVVVVVVVVVVVVVVVVVVCVVVLVVVLPCVVVPPVPVLVLPLPFW...</td>\n      <td>500</td>\n      <td>1</td>\n      <td>KIVNNWLKQLIKVTLVFLFVAAIFYLITPVHVMSKHTDFSSEIIGY...</td>\n      <td>DVVVVVVVVVVVVVVVVVVCVVVLVVVLPCVVVPPVPVLVLPLPFW...</td>\n      <td>500</td>\n      <td>1</td>\n      <td>0</td>\n      <td>0.493510</td>\n    </tr>\n    <tr>\n      <th>4</th>\n      <td>YP_009742612.1</td>\n      <td>SGFRKMAFPSGKVEGCMVQVTCGTTTLNGLWLDDVVYCPRHVICTS...</td>\n      <td>DDWDQDPDCPVLFLQQKKWKAWDPAIAIWGAAFQKTKFFLCSLPDP...</td>\n      <td>306</td>\n      <td>1</td>\n      <td>SGFRKMAFPSGKVEGCMVQVTCGTTTLNGLWLDDVVYCPRHVICTS...</td>\n      <td>DDWDQDPDCPVLFLQQKKWKAWDPAIAIWGAAFQKTKFFLCSLPDP...</td>\n      <td>306</td>\n      <td>1</td>\n      <td>1</td>\n      <td>0.998149</td>\n    </tr>\n    <tr>\n      <th>5</th>\n      <td>YP_009742613.1</td>\n      <td>SAVKRTIKGTHHWLLLTILTSLLVLVQSTQWSLFFFLYENAFLPFA...</td>\n      <td>DVVVVVVVVVVVVVVVLVVVVVLVVVVVVVVVVPVVVPVPDVPLLV...</td>\n      <td>290</td>\n      <td>1</td>\n      <td>SAVKRTIKGTHHWLLLTILTSLLVLVQSTQWSLFFFLYENAFLPFA...</td>\n      <td>DVVVVVVVVVVVVVVVLVVVVVLVVVVVVVVVVPVVVPVPDVPLLV...</td>\n      <td>290</td>\n      <td>1</td>\n      <td>0</td>\n      <td>0.106912</td>\n    </tr>\n    <tr>\n      <th>6</th>\n      <td>YP_009742614.1</td>\n      <td>SKMSDVKCTSVVLLSVLQQLRVESSSKLWAQCVQLHNDILLAKDTT...</td>\n      <td>DLLVVLLVVLVLLLVVVVVLVPDDDPVLNVLSVVLSVQSVPPPDNV...</td>\n      <td>83</td>\n      <td>1</td>\n      <td>SKMSDVKCTSVVLLSVLQQLRVESSSKLWAQCVQLHNDILLAKDTT...</td>\n      <td>DLLVVLLVVLVLLLVVVVVLVPDDDPVLNVLSVVLSVQSVPPPDNV...</td>\n      <td>83</td>\n      <td>1</td>\n      <td>1</td>\n      <td>0.994470</td>\n    </tr>\n    <tr>\n      <th>7</th>\n      <td>YP_009742615.1</td>\n      <td>AIASEFSSLPSYAAFATAQEAYEQAVANGDSEVVLKKLKKSLNVAK...</td>\n      <td>DPPPVCVPFPLVVQLVVLVVVLVVCVVVVHDPVVNVVSVVSNVVSV...</td>\n      <td>198</td>\n      <td>1</td>\n      <td>AIASEFSSLPSYAAFATAQEAYEQAVANGDSEVVLKKLKKSLNVAK...</td>\n      <td>DPPPVCVPFPLVVQLVVLVVVLVVCVVVVHDPVVNVVSVVSNVVSV...</td>\n      <td>198</td>\n      <td>1</td>\n      <td>0</td>\n      <td>0.046851</td>\n    </tr>\n    <tr>\n      <th>8</th>\n      <td>YP_009742616.1</td>\n      <td>NNELSPVALRQMSCAAGTTQTACTDDNALAYYNTTKGGRFVLALLS...</td>\n      <td>DFWDFQAWADEADPPVPPPPPPPVDAWHQYFDQDPPPRFTWTKIKH...</td>\n      <td>113</td>\n      <td>1</td>\n      <td>NNELSPVALRQMSCAAGTTQTACTDDNALAYYNTTKGGRFVLALLS...</td>\n      <td>DFWDFQAWADEADPPVPPPPPPPVDAWHQYFDQDPPPRFTWTKIKH...</td>\n      <td>113</td>\n      <td>1</td>\n      <td>1</td>\n      <td>0.999535</td>\n    </tr>\n    <tr>\n      <th>9</th>\n      <td>YP_009742617.1</td>\n      <td>AGNATEVPANSTVLSFCAFAVDAAKAYKDYLASGGQPITNCVKMLC...</td>\n      <td>DPPPPPQDPPHPPPSLPVVQVVVLVVVVVCVVVVNPQDQPPPLPQP...</td>\n      <td>139</td>\n      <td>1</td>\n      <td>AGNATEVPANSTVLSFCAFAVDAAKAYKDYLASGGQPITNCVKMLC...</td>\n      <td>DPPPPPQDPPHPPPSLPVVQVVVLVVVVVCVVVVNPQDQPPPLPQP...</td>\n      <td>139</td>\n      <td>1</td>\n      <td>1</td>\n      <td>0.999981</td>\n    </tr>\n    <tr>\n      <th>10</th>\n      <td>YP_009725318.1</td>\n      <td>MIELSLIDFYLCFLAFLLFLVLIMLIIFWFSLELQDHNETCHA</td>\n      <td>DVVCVVVVVVVVVVVVVVVVVVVVVVVVVVVVVVVVVVVVVVD</td>\n      <td>43</td>\n      <td>1</td>\n      <td>MIELSLIDFYLCFLAFLLFLVLIMLIIFWFSLELQDHNETCHA</td>\n      <td>DVVCVVVVVVVVVVVVVVVVVVVVVVVVVVVVVVVVVVVVVVD</td>\n      <td>43</td>\n      <td>1</td>\n      <td>0</td>\n      <td>0.000003</td>\n    </tr>\n    <tr>\n      <th>11</th>\n      <td>YP_009725307.1</td>\n      <td>SADAQSFLNRVCGVSAARLTPCGTGTSTDVVYRAFDIYNDKVAGFA...</td>\n      <td>DCVVVVVVVQQPPPPPDDDDDDDDDPDPPQVPDPVVPDDPPDPPPV...</td>\n      <td>932</td>\n      <td>1</td>\n      <td>SADAQSFLNRVCGVSAARLTPCGTGTSTDVVYRAFDIYNDKVAGFA...</td>\n      <td>DCVVVVVVVQQPPPPPDDDDDDDDDPDPPQVPDPVVPDDPPDPPPV...</td>\n      <td>932</td>\n      <td>1</td>\n      <td>1</td>\n      <td>0.864433</td>\n    </tr>\n    <tr>\n      <th>12</th>\n      <td>YP_009725308.1</td>\n      <td>AVGACVLCNSQTSLRCGACIRRPFLCCKCCYDHVISTSHKLVLSVN...</td>\n      <td>DWAAAPPPRFIAQKFQPQDLVSGDHDPVRVVVVCVVQVRPGIAGDD...</td>\n      <td>601</td>\n      <td>1</td>\n      <td>AVGACVLCNSQTSLRCGACIRRPFLCCKCCYDHVISTSHKLVLSVN...</td>\n      <td>DWAAAPPPRFIAQKFQPQDLVSGDHDPVRVVVVCVVQVRPGIAGDD...</td>\n      <td>601</td>\n      <td>1</td>\n      <td>0</td>\n      <td>0.140146</td>\n    </tr>\n    <tr>\n      <th>13</th>\n      <td>YP_009725309.1</td>\n      <td>AENVTGLFKDCSKVITGLHPTQAPTHLSVDTKFKTEGLCVDIPGIP...</td>\n      <td>DPPLVVVVVCVCVVVVVVPPDDPPPDDDPPPPPPPPPPPPPPPPAD...</td>\n      <td>527</td>\n      <td>1</td>\n      <td>AENVTGLFKDCSKVITGLHPTQAPTHLSVDTKFKTEGLCVDIPGIP...</td>\n      <td>DPPLVVVVVCVCVVVVVVPPDDPPPDDDPPPPPPPPPPPPPPPPAD...</td>\n      <td>527</td>\n      <td>1</td>\n      <td>0</td>\n      <td>0.021509</td>\n    </tr>\n    <tr>\n      <th>14</th>\n      <td>YP_009725310.1</td>\n      <td>SLENVAFNVVNKGHFDGQQGEVPVSIINNTVYTKVDGVDVELFENK...</td>\n      <td>DLQVLLVPQPPADDAPDDPDPFDWDDDPQWIWTDHVNDTDTDDHPP...</td>\n      <td>346</td>\n      <td>1</td>\n      <td>SLENVAFNVVNKGHFDGQQGEVPVSIINNTVYTKVDGVDVELFENK...</td>\n      <td>DLQVLLVPQPPADDAPDDPDPFDWDDDPQWIWTDHVNDTDTDDHPP...</td>\n      <td>346</td>\n      <td>1</td>\n      <td>1</td>\n      <td>0.767852</td>\n    </tr>\n    <tr>\n      <th>15</th>\n      <td>YP_009725311.1</td>\n      <td>SSQAWQPGVAMPNLYKMQRMLLEKCDLQNYGDSATLPKGIMMNVAK...</td>\n      <td>DQPFDPLVDPQPDLVVLVVVVVVVVPCVVVPDPVDPVLQLSLLSQQ...</td>\n      <td>298</td>\n      <td>1</td>\n      <td>SSQAWQPGVAMPNLYKMQRMLLEKCDLQNYGDSATLPKGIMMNVAK...</td>\n      <td>DQPFDPLVDPQPDLVVLVVVVVVVVPCVVVPDPVDPVLQLSLLSQQ...</td>\n      <td>298</td>\n      <td>1</td>\n      <td>0</td>\n      <td>0.000259</td>\n    </tr>\n    <tr>\n      <th>16</th>\n      <td>YP_009725312.1</td>\n      <td>SADAQSFLNGFAV</td>\n      <td>DVVVVVVVVVVVD</td>\n      <td>13</td>\n      <td>1</td>\n      <td>SADAQSFLNGFAV</td>\n      <td>DVVVVVVVVVVVD</td>\n      <td>13</td>\n      <td>1</td>\n      <td>1</td>\n      <td>0.996859</td>\n    </tr>\n    <tr>\n      <th>17</th>\n      <td>YP_009725255.1</td>\n      <td>MGYINVFAFPFTIYSLLLCRMNSRNYIAQVDVVNFNLT</td>\n      <td>DDPPPPVPDPPVVVVVVQVPPPPPDDDSPPPPPPPPPD</td>\n      <td>38</td>\n      <td>1</td>\n      <td>MGYINVFAFPFTIYSLLLCRMNSRNYIAQVDVVNFNLT</td>\n      <td>DDPPPPVPDPPVVVVVVQVPPPPPDDDSPPPPPPPPPD</td>\n      <td>38</td>\n      <td>1</td>\n      <td>0</td>\n      <td>0.000001</td>\n    </tr>\n    <tr>\n      <th>18</th>\n      <td>YP_009724390.1</td>\n      <td>MFVFLVLLPLVSSQCVNLTTRTQLPPAYTNSFTRGVYYPDKVFRSS...</td>\n      <td>DDDDDDDDDPPDDDQDDPPFEDDDDWDWDFPAQDFAADPDPDFDAQ...</td>\n      <td>1273</td>\n      <td>1</td>\n      <td>MFVFLVLLPLVSSQCVNLTTRTQLPPAYTNSFTRGVYYPDKVFRSS...</td>\n      <td>DDDDDDDDDPPDDDQDDPPFEDDDDWDWDFPAQDFAADPDPDFDAQ...</td>\n      <td>1273</td>\n      <td>1</td>\n      <td>1</td>\n      <td>0.999991</td>\n    </tr>\n    <tr>\n      <th>19</th>\n      <td>YP_009724391.1</td>\n      <td>MDLFMRIFTIGTVTLKQGEIKDATPSDFVRATATIPIQASLPFGWL...</td>\n      <td>DVVVVVVLCVPVPPPPPPPPPDDDPVNSCQVSQVVCLVVVPVVLVV...</td>\n      <td>275</td>\n      <td>1</td>\n      <td>MDLFMRIFTIGTVTLKQGEIKDATPSDFVRATATIPIQASLPFGWL...</td>\n      <td>DVVVVVVLCVPVPPPPPPPPPDDDPVNSCQVSQVVCLVVVPVVLVV...</td>\n      <td>275</td>\n      <td>1</td>\n      <td>0</td>\n      <td>0.462855</td>\n    </tr>\n    <tr>\n      <th>20</th>\n      <td>YP_009724392.1</td>\n      <td>MYSFVSEETGTLIVNSVLLFLAFVVFLLVTLAILTALRLCAYCCNI...</td>\n      <td>DPPPVCPVVVVVVVVVVVVVVVVVVVVVVVVVVVVVVVVVCVVVVV...</td>\n      <td>75</td>\n      <td>1</td>\n      <td>MYSFVSEETGTLIVNSVLLFLAFVVFLLVTLAILTALRLCAYCCNI...</td>\n      <td>DPPPVCPVVVVVVVVVVVVVVVVVVVVVVVVVVVVVVVVVCVVVVV...</td>\n      <td>75</td>\n      <td>1</td>\n      <td>0</td>\n      <td>0.000012</td>\n    </tr>\n    <tr>\n      <th>21</th>\n      <td>YP_009724393.1</td>\n      <td>MADSNGTITVEELKKLLEQWNLVIGFLFLTWICLLQFAYANRNRFL...</td>\n      <td>DQPPVNDQDPVNVVVVLLVLCVLVVLLVVLVVLLVVVVVQVPAPVS...</td>\n      <td>222</td>\n      <td>1</td>\n      <td>MADSNGTITVEELKKLLEQWNLVIGFLFLTWICLLQFAYANRNRFL...</td>\n      <td>DQPPVNDQDPVNVVVVLLVLCVLVVLLVVLVVLLVVVVVQVPAPVS...</td>\n      <td>222</td>\n      <td>1</td>\n      <td>0</td>\n      <td>0.000066</td>\n    </tr>\n    <tr>\n      <th>22</th>\n      <td>YP_009724394.1</td>\n      <td>MFHLVDFQVTIAEILLIIMRTFKVSIWNLDYIINLIIKNLSKSLTE...</td>\n      <td>DPPCPDCPVPLVNVLVVCCVPVVDDPVCSVVVSVVVVVVVVCVVVV...</td>\n      <td>61</td>\n      <td>1</td>\n      <td>MFHLVDFQVTIAEILLIIMRTFKVSIWNLDYIINLIIKNLSKSLTE...</td>\n      <td>DPPCPDCPVPLVNVLVVCCVPVVDDPVCSVVVSVVVVVVVVCVVVV...</td>\n      <td>61</td>\n      <td>1</td>\n      <td>0</td>\n      <td>0.000004</td>\n    </tr>\n    <tr>\n      <th>23</th>\n      <td>YP_009724395.1</td>\n      <td>MKIILFLALITLATCELYHYQECVRGTTVLLKEPCSSGTYEGNSPF...</td>\n      <td>DVVVVVVVVVVLPLQEAEAEDEDAQQDKDKDAAPDPDWDKDDPFDW...</td>\n      <td>121</td>\n      <td>1</td>\n      <td>MKIILFLALITLATCELYHYQECVRGTTVLLKEPCSSGTYEGNSPF...</td>\n      <td>DVVVVVVVVVVLPLQEAEAEDEDAQQDKDKDAAPDPDWDKDDPFDW...</td>\n      <td>121</td>\n      <td>1</td>\n      <td>1</td>\n      <td>0.941068</td>\n    </tr>\n    <tr>\n      <th>24</th>\n      <td>YP_009724396.1</td>\n      <td>MKFLVFLGIITTVAAFHQECSLQSCTQHQPYVVDDPCPIHFYSKWY...</td>\n      <td>DCPPCVVVCPVVPVLQQKFWFWDDVPDDDTPGPVDSPSPDDDPWPQ...</td>\n      <td>121</td>\n      <td>1</td>\n      <td>MKFLVFLGIITTVAAFHQECSLQSCTQHQPYVVDDPCPIHFYSKWY...</td>\n      <td>DCPPCVVVCPVVPVLQQKFWFWDDVPDDDTPGPVDSPSPDDDPWPQ...</td>\n      <td>121</td>\n      <td>1</td>\n      <td>1</td>\n      <td>0.996818</td>\n    </tr>\n    <tr>\n      <th>25</th>\n      <td>YP_009724397.2</td>\n      <td>MSDNGPQNQRNAPRITFGGPSDSTGSNQNGERSGARSKQRRPQGLP...</td>\n      <td>DPCPPPPPPPPDPPPPPPPPPVPPPPPPDDPPPFDPPPPVPPPQDP...</td>\n      <td>419</td>\n      <td>1</td>\n      <td>MSDNGPQNQRNAPRITFGGPSDSTGSNQNGERSGARSKQRRPQGLP...</td>\n      <td>DPCPPPPPPPPDPPPPPPPPPVPPPPPPDDPPPFDPPPPVPPPQDP...</td>\n      <td>419</td>\n      <td>1</td>\n      <td>1</td>\n      <td>0.995327</td>\n    </tr>\n  </tbody>\n</table>\n</div>"
     },
     "execution_count": 23,
     "metadata": {},
     "output_type": "execute_result"
    }
   ],
   "source": [
    "jj = pd.read_json('dataset/Case_2_SARS-CoV-2/case.json', orient='records', lines=True)\n",
    "combine = pd.merge(jj, df, on='name', how='inner')\n",
    "combine"
   ],
   "metadata": {
    "collapsed": false,
    "ExecuteTime": {
     "end_time": "2024-09-26T02:33:04.215688400Z",
     "start_time": "2024-09-26T02:33:04.177201Z"
    }
   },
   "id": "b6427466f7ef0078"
  },
  {
   "cell_type": "code",
   "execution_count": 24,
   "outputs": [
    {
     "data": {
      "text/plain": "0.7282023681377826"
     },
     "execution_count": 24,
     "metadata": {},
     "output_type": "execute_result"
    }
   ],
   "source": [
    "123/1858 * 11"
   ],
   "metadata": {
    "collapsed": false,
    "ExecuteTime": {
     "end_time": "2024-09-26T06:55:16.093183800Z",
     "start_time": "2024-09-26T06:55:16.087728200Z"
    }
   },
   "id": "b3d43590ea5d54c4"
  },
  {
   "cell_type": "code",
   "execution_count": 13,
   "outputs": [
    {
     "data": {
      "text/plain": "              name                             ID  \\\n0   YP_009742608.1                 leader protein   \n1   YP_009742609.1                           nsp2   \n2   YP_009742610.1                           nsp3   \n3   YP_009742611.1                           nsp4   \n4   YP_009742612.1             3C-like proteinase   \n5   YP_009742613.1                           nsp6   \n6   YP_009742614.1                           nsp7   \n7   YP_009742615.1                           nsp8   \n8   YP_009742616.1                           nsp9   \n9   YP_009742617.1                          nsp10   \n10  YP_009725318.1                          ORF7b   \n11  YP_009725295.1              ORF1a polyprotein   \n12  YP_009725297.1                 leader protein   \n13  YP_009725298.1                           nsp2   \n14  YP_009725299.1                           nsp3   \n15  YP_009725300.1                           nsp4   \n16  YP_009725301.1             3C-like proteinase   \n17  YP_009725302.1                           nsp6   \n18  YP_009725303.1                           nsp7   \n19  YP_009725304.1                           nsp8   \n20  YP_009725305.1                           nsp9   \n21  YP_009725306.1                          nsp10   \n22  YP_009725307.1   RNA-dependent RNA polymerase   \n23  YP_009725308.1                       helicase   \n24  YP_009725309.1           3'-to-5' exonuclease   \n25  YP_009725310.1                      endoRNAse   \n26  YP_009725311.1  2'-O-ribose methyltransferase   \n27  YP_009725312.1                          nsp11   \n28  YP_009725255.1                  ORF10 protein   \n29  YP_009724389.1             ORF1ab polyprotein   \n30  YP_009724390.1           surface glycoprotein   \n31  YP_009724391.1                  ORF3a protein   \n32  YP_009724392.1               envelope protein   \n33  YP_009724393.1          membrane glycoprotein   \n34  YP_009724394.1                   ORF6 protein   \n35  YP_009724395.1                  ORF7a protein   \n36  YP_009724396.1                   ORF8 protein   \n37  YP_009724397.2    nucleocapsid phosphoprotein   \n\n                                               aa_seq  length  \n0   MESLVPGFNEKTHVQLSLPVLQVRDVLVRGFGDSVEEVLSEARQHL...     180  \n1   AYTRYVDNNFCGPDGYPLECIKDLLARAGKASCTLSEQLDFIDTKR...     638  \n2   APTKVTFGDDTVIEVQGYKSVNITFELDERIDKVLNEKCSAYTVEL...    1945  \n3   KIVNNWLKQLIKVTLVFLFVAAIFYLITPVHVMSKHTDFSSEIIGY...     500  \n4   SGFRKMAFPSGKVEGCMVQVTCGTTTLNGLWLDDVVYCPRHVICTS...     306  \n5   SAVKRTIKGTHHWLLLTILTSLLVLVQSTQWSLFFFLYENAFLPFA...     290  \n6   SKMSDVKCTSVVLLSVLQQLRVESSSKLWAQCVQLHNDILLAKDTT...      83  \n7   AIASEFSSLPSYAAFATAQEAYEQAVANGDSEVVLKKLKKSLNVAK...     198  \n8   NNELSPVALRQMSCAAGTTQTACTDDNALAYYNTTKGGRFVLALLS...     113  \n9   AGNATEVPANSTVLSFCAFAVDAAKAYKDYLASGGQPITNCVKMLC...     139  \n10        MIELSLIDFYLCFLAFLLFLVLIMLIIFWFSLELQDHNETCHA      43  \n11  MESLVPGFNEKTHVQLSLPVLQVRDVLVRGFGDSVEEVLSEARQHL...    4405  \n12  MESLVPGFNEKTHVQLSLPVLQVRDVLVRGFGDSVEEVLSEARQHL...     180  \n13  AYTRYVDNNFCGPDGYPLECIKDLLARAGKASCTLSEQLDFIDTKR...     638  \n14  APTKVTFGDDTVIEVQGYKSVNITFELDERIDKVLNEKCSAYTVEL...    1945  \n15  KIVNNWLKQLIKVTLVFLFVAAIFYLITPVHVMSKHTDFSSEIIGY...     500  \n16  SGFRKMAFPSGKVEGCMVQVTCGTTTLNGLWLDDVVYCPRHVICTS...     306  \n17  SAVKRTIKGTHHWLLLTILTSLLVLVQSTQWSLFFFLYENAFLPFA...     290  \n18  SKMSDVKCTSVVLLSVLQQLRVESSSKLWAQCVQLHNDILLAKDTT...      83  \n19  AIASEFSSLPSYAAFATAQEAYEQAVANGDSEVVLKKLKKSLNVAK...     198  \n20  NNELSPVALRQMSCAAGTTQTACTDDNALAYYNTTKGGRFVLALLS...     113  \n21  AGNATEVPANSTVLSFCAFAVDAAKAYKDYLASGGQPITNCVKMLC...     139  \n22  SADAQSFLNRVCGVSAARLTPCGTGTSTDVVYRAFDIYNDKVAGFA...     932  \n23  AVGACVLCNSQTSLRCGACIRRPFLCCKCCYDHVISTSHKLVLSVN...     601  \n24  AENVTGLFKDCSKVITGLHPTQAPTHLSVDTKFKTEGLCVDIPGIP...     527  \n25  SLENVAFNVVNKGHFDGQQGEVPVSIINNTVYTKVDGVDVELFENK...     346  \n26  SSQAWQPGVAMPNLYKMQRMLLEKCDLQNYGDSATLPKGIMMNVAK...     298  \n27                                      SADAQSFLNGFAV      13  \n28             MGYINVFAFPFTIYSLLLCRMNSRNYIAQVDVVNFNLT      38  \n29  MESLVPGFNEKTHVQLSLPVLQVRDVLVRGFGDSVEEVLSEARQHL...    7096  \n30  MFVFLVLLPLVSSQCVNLTTRTQLPPAYTNSFTRGVYYPDKVFRSS...    1273  \n31  MDLFMRIFTIGTVTLKQGEIKDATPSDFVRATATIPIQASLPFGWL...     275  \n32  MYSFVSEETGTLIVNSVLLFLAFVVFLLVTLAILTALRLCAYCCNI...      75  \n33  MADSNGTITVEELKKLLEQWNLVIGFLFLTWICLLQFAYANRNRFL...     222  \n34  MFHLVDFQVTIAEILLIIMRTFKVSIWNLDYIINLIIKNLSKSLTE...      61  \n35  MKIILFLALITLATCELYHYQECVRGTTVLLKEPCSSGTYEGNSPF...     121  \n36  MKFLVFLGIITTVAAFHQECSLQSCTQHQPYVVDDPCPIHFYSKWY...     121  \n37  MSDNGPQNQRNAPRITFGGPSDSTGSNQNGERSGARSKQRRPQGLP...     419  ",
      "text/html": "<div>\n<style scoped>\n    .dataframe tbody tr th:only-of-type {\n        vertical-align: middle;\n    }\n\n    .dataframe tbody tr th {\n        vertical-align: top;\n    }\n\n    .dataframe thead th {\n        text-align: right;\n    }\n</style>\n<table border=\"1\" class=\"dataframe\">\n  <thead>\n    <tr style=\"text-align: right;\">\n      <th></th>\n      <th>name</th>\n      <th>ID</th>\n      <th>aa_seq</th>\n      <th>length</th>\n    </tr>\n  </thead>\n  <tbody>\n    <tr>\n      <th>0</th>\n      <td>YP_009742608.1</td>\n      <td>leader protein</td>\n      <td>MESLVPGFNEKTHVQLSLPVLQVRDVLVRGFGDSVEEVLSEARQHL...</td>\n      <td>180</td>\n    </tr>\n    <tr>\n      <th>1</th>\n      <td>YP_009742609.1</td>\n      <td>nsp2</td>\n      <td>AYTRYVDNNFCGPDGYPLECIKDLLARAGKASCTLSEQLDFIDTKR...</td>\n      <td>638</td>\n    </tr>\n    <tr>\n      <th>2</th>\n      <td>YP_009742610.1</td>\n      <td>nsp3</td>\n      <td>APTKVTFGDDTVIEVQGYKSVNITFELDERIDKVLNEKCSAYTVEL...</td>\n      <td>1945</td>\n    </tr>\n    <tr>\n      <th>3</th>\n      <td>YP_009742611.1</td>\n      <td>nsp4</td>\n      <td>KIVNNWLKQLIKVTLVFLFVAAIFYLITPVHVMSKHTDFSSEIIGY...</td>\n      <td>500</td>\n    </tr>\n    <tr>\n      <th>4</th>\n      <td>YP_009742612.1</td>\n      <td>3C-like proteinase</td>\n      <td>SGFRKMAFPSGKVEGCMVQVTCGTTTLNGLWLDDVVYCPRHVICTS...</td>\n      <td>306</td>\n    </tr>\n    <tr>\n      <th>5</th>\n      <td>YP_009742613.1</td>\n      <td>nsp6</td>\n      <td>SAVKRTIKGTHHWLLLTILTSLLVLVQSTQWSLFFFLYENAFLPFA...</td>\n      <td>290</td>\n    </tr>\n    <tr>\n      <th>6</th>\n      <td>YP_009742614.1</td>\n      <td>nsp7</td>\n      <td>SKMSDVKCTSVVLLSVLQQLRVESSSKLWAQCVQLHNDILLAKDTT...</td>\n      <td>83</td>\n    </tr>\n    <tr>\n      <th>7</th>\n      <td>YP_009742615.1</td>\n      <td>nsp8</td>\n      <td>AIASEFSSLPSYAAFATAQEAYEQAVANGDSEVVLKKLKKSLNVAK...</td>\n      <td>198</td>\n    </tr>\n    <tr>\n      <th>8</th>\n      <td>YP_009742616.1</td>\n      <td>nsp9</td>\n      <td>NNELSPVALRQMSCAAGTTQTACTDDNALAYYNTTKGGRFVLALLS...</td>\n      <td>113</td>\n    </tr>\n    <tr>\n      <th>9</th>\n      <td>YP_009742617.1</td>\n      <td>nsp10</td>\n      <td>AGNATEVPANSTVLSFCAFAVDAAKAYKDYLASGGQPITNCVKMLC...</td>\n      <td>139</td>\n    </tr>\n    <tr>\n      <th>10</th>\n      <td>YP_009725318.1</td>\n      <td>ORF7b</td>\n      <td>MIELSLIDFYLCFLAFLLFLVLIMLIIFWFSLELQDHNETCHA</td>\n      <td>43</td>\n    </tr>\n    <tr>\n      <th>11</th>\n      <td>YP_009725295.1</td>\n      <td>ORF1a polyprotein</td>\n      <td>MESLVPGFNEKTHVQLSLPVLQVRDVLVRGFGDSVEEVLSEARQHL...</td>\n      <td>4405</td>\n    </tr>\n    <tr>\n      <th>12</th>\n      <td>YP_009725297.1</td>\n      <td>leader protein</td>\n      <td>MESLVPGFNEKTHVQLSLPVLQVRDVLVRGFGDSVEEVLSEARQHL...</td>\n      <td>180</td>\n    </tr>\n    <tr>\n      <th>13</th>\n      <td>YP_009725298.1</td>\n      <td>nsp2</td>\n      <td>AYTRYVDNNFCGPDGYPLECIKDLLARAGKASCTLSEQLDFIDTKR...</td>\n      <td>638</td>\n    </tr>\n    <tr>\n      <th>14</th>\n      <td>YP_009725299.1</td>\n      <td>nsp3</td>\n      <td>APTKVTFGDDTVIEVQGYKSVNITFELDERIDKVLNEKCSAYTVEL...</td>\n      <td>1945</td>\n    </tr>\n    <tr>\n      <th>15</th>\n      <td>YP_009725300.1</td>\n      <td>nsp4</td>\n      <td>KIVNNWLKQLIKVTLVFLFVAAIFYLITPVHVMSKHTDFSSEIIGY...</td>\n      <td>500</td>\n    </tr>\n    <tr>\n      <th>16</th>\n      <td>YP_009725301.1</td>\n      <td>3C-like proteinase</td>\n      <td>SGFRKMAFPSGKVEGCMVQVTCGTTTLNGLWLDDVVYCPRHVICTS...</td>\n      <td>306</td>\n    </tr>\n    <tr>\n      <th>17</th>\n      <td>YP_009725302.1</td>\n      <td>nsp6</td>\n      <td>SAVKRTIKGTHHWLLLTILTSLLVLVQSTQWSLFFFLYENAFLPFA...</td>\n      <td>290</td>\n    </tr>\n    <tr>\n      <th>18</th>\n      <td>YP_009725303.1</td>\n      <td>nsp7</td>\n      <td>SKMSDVKCTSVVLLSVLQQLRVESSSKLWAQCVQLHNDILLAKDTT...</td>\n      <td>83</td>\n    </tr>\n    <tr>\n      <th>19</th>\n      <td>YP_009725304.1</td>\n      <td>nsp8</td>\n      <td>AIASEFSSLPSYAAFATAQEAYEQAVANGDSEVVLKKLKKSLNVAK...</td>\n      <td>198</td>\n    </tr>\n    <tr>\n      <th>20</th>\n      <td>YP_009725305.1</td>\n      <td>nsp9</td>\n      <td>NNELSPVALRQMSCAAGTTQTACTDDNALAYYNTTKGGRFVLALLS...</td>\n      <td>113</td>\n    </tr>\n    <tr>\n      <th>21</th>\n      <td>YP_009725306.1</td>\n      <td>nsp10</td>\n      <td>AGNATEVPANSTVLSFCAFAVDAAKAYKDYLASGGQPITNCVKMLC...</td>\n      <td>139</td>\n    </tr>\n    <tr>\n      <th>22</th>\n      <td>YP_009725307.1</td>\n      <td>RNA-dependent RNA polymerase</td>\n      <td>SADAQSFLNRVCGVSAARLTPCGTGTSTDVVYRAFDIYNDKVAGFA...</td>\n      <td>932</td>\n    </tr>\n    <tr>\n      <th>23</th>\n      <td>YP_009725308.1</td>\n      <td>helicase</td>\n      <td>AVGACVLCNSQTSLRCGACIRRPFLCCKCCYDHVISTSHKLVLSVN...</td>\n      <td>601</td>\n    </tr>\n    <tr>\n      <th>24</th>\n      <td>YP_009725309.1</td>\n      <td>3'-to-5' exonuclease</td>\n      <td>AENVTGLFKDCSKVITGLHPTQAPTHLSVDTKFKTEGLCVDIPGIP...</td>\n      <td>527</td>\n    </tr>\n    <tr>\n      <th>25</th>\n      <td>YP_009725310.1</td>\n      <td>endoRNAse</td>\n      <td>SLENVAFNVVNKGHFDGQQGEVPVSIINNTVYTKVDGVDVELFENK...</td>\n      <td>346</td>\n    </tr>\n    <tr>\n      <th>26</th>\n      <td>YP_009725311.1</td>\n      <td>2'-O-ribose methyltransferase</td>\n      <td>SSQAWQPGVAMPNLYKMQRMLLEKCDLQNYGDSATLPKGIMMNVAK...</td>\n      <td>298</td>\n    </tr>\n    <tr>\n      <th>27</th>\n      <td>YP_009725312.1</td>\n      <td>nsp11</td>\n      <td>SADAQSFLNGFAV</td>\n      <td>13</td>\n    </tr>\n    <tr>\n      <th>28</th>\n      <td>YP_009725255.1</td>\n      <td>ORF10 protein</td>\n      <td>MGYINVFAFPFTIYSLLLCRMNSRNYIAQVDVVNFNLT</td>\n      <td>38</td>\n    </tr>\n    <tr>\n      <th>29</th>\n      <td>YP_009724389.1</td>\n      <td>ORF1ab polyprotein</td>\n      <td>MESLVPGFNEKTHVQLSLPVLQVRDVLVRGFGDSVEEVLSEARQHL...</td>\n      <td>7096</td>\n    </tr>\n    <tr>\n      <th>30</th>\n      <td>YP_009724390.1</td>\n      <td>surface glycoprotein</td>\n      <td>MFVFLVLLPLVSSQCVNLTTRTQLPPAYTNSFTRGVYYPDKVFRSS...</td>\n      <td>1273</td>\n    </tr>\n    <tr>\n      <th>31</th>\n      <td>YP_009724391.1</td>\n      <td>ORF3a protein</td>\n      <td>MDLFMRIFTIGTVTLKQGEIKDATPSDFVRATATIPIQASLPFGWL...</td>\n      <td>275</td>\n    </tr>\n    <tr>\n      <th>32</th>\n      <td>YP_009724392.1</td>\n      <td>envelope protein</td>\n      <td>MYSFVSEETGTLIVNSVLLFLAFVVFLLVTLAILTALRLCAYCCNI...</td>\n      <td>75</td>\n    </tr>\n    <tr>\n      <th>33</th>\n      <td>YP_009724393.1</td>\n      <td>membrane glycoprotein</td>\n      <td>MADSNGTITVEELKKLLEQWNLVIGFLFLTWICLLQFAYANRNRFL...</td>\n      <td>222</td>\n    </tr>\n    <tr>\n      <th>34</th>\n      <td>YP_009724394.1</td>\n      <td>ORF6 protein</td>\n      <td>MFHLVDFQVTIAEILLIIMRTFKVSIWNLDYIINLIIKNLSKSLTE...</td>\n      <td>61</td>\n    </tr>\n    <tr>\n      <th>35</th>\n      <td>YP_009724395.1</td>\n      <td>ORF7a protein</td>\n      <td>MKIILFLALITLATCELYHYQECVRGTTVLLKEPCSSGTYEGNSPF...</td>\n      <td>121</td>\n    </tr>\n    <tr>\n      <th>36</th>\n      <td>YP_009724396.1</td>\n      <td>ORF8 protein</td>\n      <td>MKFLVFLGIITTVAAFHQECSLQSCTQHQPYVVDDPCPIHFYSKWY...</td>\n      <td>121</td>\n    </tr>\n    <tr>\n      <th>37</th>\n      <td>YP_009724397.2</td>\n      <td>nucleocapsid phosphoprotein</td>\n      <td>MSDNGPQNQRNAPRITFGGPSDSTGSNQNGERSGARSKQRRPQGLP...</td>\n      <td>419</td>\n    </tr>\n  </tbody>\n</table>\n</div>"
     },
     "execution_count": 13,
     "metadata": {},
     "output_type": "execute_result"
    }
   ],
   "source": [
    "from Bio import SeqIO\n",
    "fasta_file = 'dataset/Case_2_SARS-CoV-2/NCBI_SARS-CoV-2_Data_Hub_RefSeq.fasta'\n",
    "\n",
    "fasta = list(SeqIO.parse(fasta_file, 'fasta'))\n",
    "seq = [str(fasta[i].seq) for i in range(len(fasta))]\n",
    "label = [fasta[i].description.split(' |')[0] for i in range(len(fasta))]\n",
    "name = [fasta[i].description.split(' [')[0].split('|')[1] for i in range(len(fasta))]\n",
    "length = [len(fasta[i].seq) for i in range(len(fasta))]\n",
    "data = pd.DataFrame({'name': label, 'ID': name, 'aa_seq': seq, 'length': length})\n",
    "data"
   ],
   "metadata": {
    "collapsed": false,
    "ExecuteTime": {
     "end_time": "2024-09-26T02:23:37.606300500Z",
     "start_time": "2024-09-26T02:23:37.590625100Z"
    }
   },
   "id": "b271e8d45c0afa60"
  },
  {
   "metadata": {
    "ExecuteTime": {
     "end_time": "2024-09-26T02:26:46.076784Z",
     "start_time": "2024-09-26T02:26:45.979438300Z"
    }
   },
   "cell_type": "code",
   "source": [
    "data_df = pd.merge(data, df, on='name', how='right')\n",
    "data_df[['name', 'ID', 'label', 'pred_label', 'pred_proba']].to_csv('dataset/Case_2_SARS-CoV-2/pred_results.csv', index=False)\n",
    "data_df"
   ],
   "id": "1d5f97ff6f28a8b4",
   "outputs": [
    {
     "data": {
      "text/plain": "              name                             ID  \\\n0   YP_009742617.1                          nsp10   \n1   YP_009742616.1                           nsp9   \n2   YP_009742615.1                           nsp8   \n3   YP_009742614.1                           nsp7   \n4   YP_009742613.1                           nsp6   \n5   YP_009742612.1             3C-like proteinase   \n6   YP_009742611.1                           nsp4   \n7   YP_009742610.1                           nsp3   \n8   YP_009742609.1                           nsp2   \n9   YP_009742608.1                 leader protein   \n10  YP_009725318.1                          ORF7b   \n11  YP_009725312.1                          nsp11   \n12  YP_009725311.1  2'-O-ribose methyltransferase   \n13  YP_009725310.1                      endoRNAse   \n14  YP_009725309.1           3'-to-5' exonuclease   \n15  YP_009725308.1                       helicase   \n16  YP_009725307.1   RNA-dependent RNA polymerase   \n17  YP_009725255.1                  ORF10 protein   \n18  YP_009724397.2    nucleocapsid phosphoprotein   \n19  YP_009724396.1                   ORF8 protein   \n20  YP_009724395.1                  ORF7a protein   \n21  YP_009724394.1                   ORF6 protein   \n22  YP_009724393.1          membrane glycoprotein   \n23  YP_009724392.1               envelope protein   \n24  YP_009724391.1                  ORF3a protein   \n25  YP_009724390.1           surface glycoprotein   \n\n                                             aa_seq_x  length_x  \\\n0   AGNATEVPANSTVLSFCAFAVDAAKAYKDYLASGGQPITNCVKMLC...       139   \n1   NNELSPVALRQMSCAAGTTQTACTDDNALAYYNTTKGGRFVLALLS...       113   \n2   AIASEFSSLPSYAAFATAQEAYEQAVANGDSEVVLKKLKKSLNVAK...       198   \n3   SKMSDVKCTSVVLLSVLQQLRVESSSKLWAQCVQLHNDILLAKDTT...        83   \n4   SAVKRTIKGTHHWLLLTILTSLLVLVQSTQWSLFFFLYENAFLPFA...       290   \n5   SGFRKMAFPSGKVEGCMVQVTCGTTTLNGLWLDDVVYCPRHVICTS...       306   \n6   KIVNNWLKQLIKVTLVFLFVAAIFYLITPVHVMSKHTDFSSEIIGY...       500   \n7   APTKVTFGDDTVIEVQGYKSVNITFELDERIDKVLNEKCSAYTVEL...      1945   \n8   AYTRYVDNNFCGPDGYPLECIKDLLARAGKASCTLSEQLDFIDTKR...       638   \n9   MESLVPGFNEKTHVQLSLPVLQVRDVLVRGFGDSVEEVLSEARQHL...       180   \n10        MIELSLIDFYLCFLAFLLFLVLIMLIIFWFSLELQDHNETCHA        43   \n11                                      SADAQSFLNGFAV        13   \n12  SSQAWQPGVAMPNLYKMQRMLLEKCDLQNYGDSATLPKGIMMNVAK...       298   \n13  SLENVAFNVVNKGHFDGQQGEVPVSIINNTVYTKVDGVDVELFENK...       346   \n14  AENVTGLFKDCSKVITGLHPTQAPTHLSVDTKFKTEGLCVDIPGIP...       527   \n15  AVGACVLCNSQTSLRCGACIRRPFLCCKCCYDHVISTSHKLVLSVN...       601   \n16  SADAQSFLNRVCGVSAARLTPCGTGTSTDVVYRAFDIYNDKVAGFA...       932   \n17             MGYINVFAFPFTIYSLLLCRMNSRNYIAQVDVVNFNLT        38   \n18  MSDNGPQNQRNAPRITFGGPSDSTGSNQNGERSGARSKQRRPQGLP...       419   \n19  MKFLVFLGIITTVAAFHQECSLQSCTQHQPYVVDDPCPIHFYSKWY...       121   \n20  MKIILFLALITLATCELYHYQECVRGTTVLLKEPCSSGTYEGNSPF...       121   \n21  MFHLVDFQVTIAEILLIIMRTFKVSIWNLDYIINLIIKNLSKSLTE...        61   \n22  MADSNGTITVEELKKLLEQWNLVIGFLFLTWICLLQFAYANRNRFL...       222   \n23  MYSFVSEETGTLIVNSVLLFLAFVVFLLVTLAILTALRLCAYCCNI...        75   \n24  MDLFMRIFTIGTVTLKQGEIKDATPSDFVRATATIPIQASLPFGWL...       275   \n25  MFVFLVLLPLVSSQCVNLTTRTQLPPAYTNSFTRGVYYPDKVFRSS...      1273   \n\n                                             aa_seq_y  \\\n0   AGNATEVPANSTVLSFCAFAVDAAKAYKDYLASGGQPITNCVKMLC...   \n1   NNELSPVALRQMSCAAGTTQTACTDDNALAYYNTTKGGRFVLALLS...   \n2   AIASEFSSLPSYAAFATAQEAYEQAVANGDSEVVLKKLKKSLNVAK...   \n3   SKMSDVKCTSVVLLSVLQQLRVESSSKLWAQCVQLHNDILLAKDTT...   \n4   SAVKRTIKGTHHWLLLTILTSLLVLVQSTQWSLFFFLYENAFLPFA...   \n5   SGFRKMAFPSGKVEGCMVQVTCGTTTLNGLWLDDVVYCPRHVICTS...   \n6   KIVNNWLKQLIKVTLVFLFVAAIFYLITPVHVMSKHTDFSSEIIGY...   \n7   APTKVTFGDDTVIEVQGYKSVNITFELDERIDKVLNEKCSAYTVEL...   \n8   AYTRYVDNNFCGPDGYPLECIKDLLARAGKASCTLSEQLDFIDTKR...   \n9   MESLVPGFNEKTHVQLSLPVLQVRDVLVRGFGDSVEEVLSEARQHL...   \n10        MIELSLIDFYLCFLAFLLFLVLIMLIIFWFSLELQDHNETCHA   \n11                                      SADAQSFLNGFAV   \n12  SSQAWQPGVAMPNLYKMQRMLLEKCDLQNYGDSATLPKGIMMNVAK...   \n13  SLENVAFNVVNKGHFDGQQGEVPVSIINNTVYTKVDGVDVELFENK...   \n14  AENVTGLFKDCSKVITGLHPTQAPTHLSVDTKFKTEGLCVDIPGIP...   \n15  AVGACVLCNSQTSLRCGACIRRPFLCCKCCYDHVISTSHKLVLSVN...   \n16  SADAQSFLNRVCGVSAARLTPCGTGTSTDVVYRAFDIYNDKVAGFA...   \n17             MGYINVFAFPFTIYSLLLCRMNSRNYIAQVDVVNFNLT   \n18  MSDNGPQNQRNAPRITFGGPSDSTGSNQNGERSGARSKQRRPQGLP...   \n19  MKFLVFLGIITTVAAFHQECSLQSCTQHQPYVVDDPCPIHFYSKWY...   \n20  MKIILFLALITLATCELYHYQECVRGTTVLLKEPCSSGTYEGNSPF...   \n21  MFHLVDFQVTIAEILLIIMRTFKVSIWNLDYIINLIIKNLSKSLTE...   \n22  MADSNGTITVEELKKLLEQWNLVIGFLFLTWICLLQFAYANRNRFL...   \n23  MYSFVSEETGTLIVNSVLLFLAFVVFLLVTLAILTALRLCAYCCNI...   \n24  MDLFMRIFTIGTVTLKQGEIKDATPSDFVRATATIPIQASLPFGWL...   \n25  MFVFLVLLPLVSSQCVNLTTRTQLPPAYTNSFTRGVYYPDKVFRSS...   \n\n                                         foldseek_seq  length_y  label  \\\n0   DPPPPPQDPPHPPPSLPVVQVVVLVVVVVCVVVVNPQDQPPPLPQP...       139      1   \n1   DFWDFQAWADEADPPVPPPPPPPVDAWHQYFDQDPPPRFTWTKIKH...       113      1   \n2   DPPPVCVPFPLVVQLVVLVVVLVVCVVVVHDPVVNVVSVVSNVVSV...       198      1   \n3   DLLVVLLVVLVLLLVVVVVLVPDDDPVLNVLSVVLSVQSVPPPDNV...        83      1   \n4   DVVVVVVVVVVVVVVVLVVVVVLVVVVVVVVVVPVVVPVPDVPLLV...       290      1   \n5   DDWDQDPDCPVLFLQQKKWKAWDPAIAIWGAAFQKTKFFLCSLPDP...       306      1   \n6   DVVVVVVVVVVVVVVVVVVCVVVLVVVLPCVVVPPVPVLVLPLPFW...       500      1   \n7   DDDQDDDPPDRDPPPQDWQKAFEQEPADLVCSVVCSVQLGIDTHGD...      1945      1   \n8   DPLDDDPPPQDDLHRDDVVCCVVVVVVVVDDPQDVVSVVVQPPVPQ...       638      1   \n9   DPPPDPPDDPPDDPPPPPVPPPLVPAAPAPDDCEPVSLVVVVVVCV...       180      1   \n10        DVVCVVVVVVVVVVVVVVVVVVVVVVVVVVVVVVVVVVVVVVD        43      1   \n11                                      DVVVVVVVVVVVD        13      1   \n12  DQPFDPLVDPQPDLVVLVVVVVVVVPCVVVPDPVDPVLQLSLLSQQ...       298      1   \n13  DLQVLLVPQPPADDAPDDPDPFDWDDDPQWIWTDHVNDTDTDDHPP...       346      1   \n14  DPPLVVVVVCVCVVVVVVPPDDPPPDDDPPPPPPPPPPPPPPPPAD...       527      1   \n15  DWAAAPPPRFIAQKFQPQDLVSGDHDPVRVVVVCVVQVRPGIAGDD...       601      1   \n16  DCVVVVVVVQQPPPPPDDDDDDDDDPDPPQVPDPVVPDDPPDPPPV...       932      1   \n17             DDPPPPVPDPPVVVVVVQVPPPPPDDDSPPPPPPPPPD        38      1   \n18  DPCPPPPPPPPDPPPPPPPPPVPPPPPPDDPPPFDPPPPVPPPQDP...       419      1   \n19  DCPPCVVVCPVVPVLQQKFWFWDDVPDDDTPGPVDSPSPDDDPWPQ...       121      1   \n20  DVVVVVVVVVVLPLQEAEAEDEDAQQDKDKDAAPDPDWDKDDPFDW...       121      1   \n21  DPPCPDCPVPLVNVLVVCCVPVVDDPVCSVVVSVVVVVVVVCVVVV...        61      1   \n22  DQPPVNDQDPVNVVVVLLVLCVLVVLLVVLVVLLVVVVVQVPAPVS...       222      1   \n23  DPPPVCPVVVVVVVVVVVVVVVVVVVVVVVVVVVVVVVVVCVVVVV...        75      1   \n24  DVVVVVVLCVPVPPPPPPPPPDDDPVNSCQVSQVVCLVVVPVVLVV...       275      1   \n25  DDDDDDDDDPPDDDQDDPPFEDDDDWDWDFPAQDFAADPDPDFDAQ...      1273      1   \n\n    pred_label  pred_proba  \n0            1    0.999981  \n1            1    0.999535  \n2            0    0.046851  \n3            1    0.994470  \n4            0    0.106912  \n5            1    0.998149  \n6            0    0.493510  \n7            1    0.996608  \n8            1    0.998784  \n9            0    0.149675  \n10           0    0.000003  \n11           1    0.996859  \n12           0    0.000259  \n13           1    0.767852  \n14           0    0.021509  \n15           0    0.140146  \n16           1    0.864433  \n17           0    0.000001  \n18           1    0.995327  \n19           1    0.996818  \n20           1    0.941068  \n21           0    0.000004  \n22           0    0.000066  \n23           0    0.000012  \n24           0    0.462855  \n25           1    0.999991  ",
      "text/html": "<div>\n<style scoped>\n    .dataframe tbody tr th:only-of-type {\n        vertical-align: middle;\n    }\n\n    .dataframe tbody tr th {\n        vertical-align: top;\n    }\n\n    .dataframe thead th {\n        text-align: right;\n    }\n</style>\n<table border=\"1\" class=\"dataframe\">\n  <thead>\n    <tr style=\"text-align: right;\">\n      <th></th>\n      <th>name</th>\n      <th>ID</th>\n      <th>aa_seq_x</th>\n      <th>length_x</th>\n      <th>aa_seq_y</th>\n      <th>foldseek_seq</th>\n      <th>length_y</th>\n      <th>label</th>\n      <th>pred_label</th>\n      <th>pred_proba</th>\n    </tr>\n  </thead>\n  <tbody>\n    <tr>\n      <th>0</th>\n      <td>YP_009742617.1</td>\n      <td>nsp10</td>\n      <td>AGNATEVPANSTVLSFCAFAVDAAKAYKDYLASGGQPITNCVKMLC...</td>\n      <td>139</td>\n      <td>AGNATEVPANSTVLSFCAFAVDAAKAYKDYLASGGQPITNCVKMLC...</td>\n      <td>DPPPPPQDPPHPPPSLPVVQVVVLVVVVVCVVVVNPQDQPPPLPQP...</td>\n      <td>139</td>\n      <td>1</td>\n      <td>1</td>\n      <td>0.999981</td>\n    </tr>\n    <tr>\n      <th>1</th>\n      <td>YP_009742616.1</td>\n      <td>nsp9</td>\n      <td>NNELSPVALRQMSCAAGTTQTACTDDNALAYYNTTKGGRFVLALLS...</td>\n      <td>113</td>\n      <td>NNELSPVALRQMSCAAGTTQTACTDDNALAYYNTTKGGRFVLALLS...</td>\n      <td>DFWDFQAWADEADPPVPPPPPPPVDAWHQYFDQDPPPRFTWTKIKH...</td>\n      <td>113</td>\n      <td>1</td>\n      <td>1</td>\n      <td>0.999535</td>\n    </tr>\n    <tr>\n      <th>2</th>\n      <td>YP_009742615.1</td>\n      <td>nsp8</td>\n      <td>AIASEFSSLPSYAAFATAQEAYEQAVANGDSEVVLKKLKKSLNVAK...</td>\n      <td>198</td>\n      <td>AIASEFSSLPSYAAFATAQEAYEQAVANGDSEVVLKKLKKSLNVAK...</td>\n      <td>DPPPVCVPFPLVVQLVVLVVVLVVCVVVVHDPVVNVVSVVSNVVSV...</td>\n      <td>198</td>\n      <td>1</td>\n      <td>0</td>\n      <td>0.046851</td>\n    </tr>\n    <tr>\n      <th>3</th>\n      <td>YP_009742614.1</td>\n      <td>nsp7</td>\n      <td>SKMSDVKCTSVVLLSVLQQLRVESSSKLWAQCVQLHNDILLAKDTT...</td>\n      <td>83</td>\n      <td>SKMSDVKCTSVVLLSVLQQLRVESSSKLWAQCVQLHNDILLAKDTT...</td>\n      <td>DLLVVLLVVLVLLLVVVVVLVPDDDPVLNVLSVVLSVQSVPPPDNV...</td>\n      <td>83</td>\n      <td>1</td>\n      <td>1</td>\n      <td>0.994470</td>\n    </tr>\n    <tr>\n      <th>4</th>\n      <td>YP_009742613.1</td>\n      <td>nsp6</td>\n      <td>SAVKRTIKGTHHWLLLTILTSLLVLVQSTQWSLFFFLYENAFLPFA...</td>\n      <td>290</td>\n      <td>SAVKRTIKGTHHWLLLTILTSLLVLVQSTQWSLFFFLYENAFLPFA...</td>\n      <td>DVVVVVVVVVVVVVVVLVVVVVLVVVVVVVVVVPVVVPVPDVPLLV...</td>\n      <td>290</td>\n      <td>1</td>\n      <td>0</td>\n      <td>0.106912</td>\n    </tr>\n    <tr>\n      <th>5</th>\n      <td>YP_009742612.1</td>\n      <td>3C-like proteinase</td>\n      <td>SGFRKMAFPSGKVEGCMVQVTCGTTTLNGLWLDDVVYCPRHVICTS...</td>\n      <td>306</td>\n      <td>SGFRKMAFPSGKVEGCMVQVTCGTTTLNGLWLDDVVYCPRHVICTS...</td>\n      <td>DDWDQDPDCPVLFLQQKKWKAWDPAIAIWGAAFQKTKFFLCSLPDP...</td>\n      <td>306</td>\n      <td>1</td>\n      <td>1</td>\n      <td>0.998149</td>\n    </tr>\n    <tr>\n      <th>6</th>\n      <td>YP_009742611.1</td>\n      <td>nsp4</td>\n      <td>KIVNNWLKQLIKVTLVFLFVAAIFYLITPVHVMSKHTDFSSEIIGY...</td>\n      <td>500</td>\n      <td>KIVNNWLKQLIKVTLVFLFVAAIFYLITPVHVMSKHTDFSSEIIGY...</td>\n      <td>DVVVVVVVVVVVVVVVVVVCVVVLVVVLPCVVVPPVPVLVLPLPFW...</td>\n      <td>500</td>\n      <td>1</td>\n      <td>0</td>\n      <td>0.493510</td>\n    </tr>\n    <tr>\n      <th>7</th>\n      <td>YP_009742610.1</td>\n      <td>nsp3</td>\n      <td>APTKVTFGDDTVIEVQGYKSVNITFELDERIDKVLNEKCSAYTVEL...</td>\n      <td>1945</td>\n      <td>APTKVTFGDDTVIEVQGYKSVNITFELDERIDKVLNEKCSAYTVEL...</td>\n      <td>DDDQDDDPPDRDPPPQDWQKAFEQEPADLVCSVVCSVQLGIDTHGD...</td>\n      <td>1945</td>\n      <td>1</td>\n      <td>1</td>\n      <td>0.996608</td>\n    </tr>\n    <tr>\n      <th>8</th>\n      <td>YP_009742609.1</td>\n      <td>nsp2</td>\n      <td>AYTRYVDNNFCGPDGYPLECIKDLLARAGKASCTLSEQLDFIDTKR...</td>\n      <td>638</td>\n      <td>AYTRYVDNNFCGPDGYPLECIKDLLARAGKASCTLSEQLDFIDTKR...</td>\n      <td>DPLDDDPPPQDDLHRDDVVCCVVVVVVVVDDPQDVVSVVVQPPVPQ...</td>\n      <td>638</td>\n      <td>1</td>\n      <td>1</td>\n      <td>0.998784</td>\n    </tr>\n    <tr>\n      <th>9</th>\n      <td>YP_009742608.1</td>\n      <td>leader protein</td>\n      <td>MESLVPGFNEKTHVQLSLPVLQVRDVLVRGFGDSVEEVLSEARQHL...</td>\n      <td>180</td>\n      <td>MESLVPGFNEKTHVQLSLPVLQVRDVLVRGFGDSVEEVLSEARQHL...</td>\n      <td>DPPPDPPDDPPDDPPPPPVPPPLVPAAPAPDDCEPVSLVVVVVVCV...</td>\n      <td>180</td>\n      <td>1</td>\n      <td>0</td>\n      <td>0.149675</td>\n    </tr>\n    <tr>\n      <th>10</th>\n      <td>YP_009725318.1</td>\n      <td>ORF7b</td>\n      <td>MIELSLIDFYLCFLAFLLFLVLIMLIIFWFSLELQDHNETCHA</td>\n      <td>43</td>\n      <td>MIELSLIDFYLCFLAFLLFLVLIMLIIFWFSLELQDHNETCHA</td>\n      <td>DVVCVVVVVVVVVVVVVVVVVVVVVVVVVVVVVVVVVVVVVVD</td>\n      <td>43</td>\n      <td>1</td>\n      <td>0</td>\n      <td>0.000003</td>\n    </tr>\n    <tr>\n      <th>11</th>\n      <td>YP_009725312.1</td>\n      <td>nsp11</td>\n      <td>SADAQSFLNGFAV</td>\n      <td>13</td>\n      <td>SADAQSFLNGFAV</td>\n      <td>DVVVVVVVVVVVD</td>\n      <td>13</td>\n      <td>1</td>\n      <td>1</td>\n      <td>0.996859</td>\n    </tr>\n    <tr>\n      <th>12</th>\n      <td>YP_009725311.1</td>\n      <td>2'-O-ribose methyltransferase</td>\n      <td>SSQAWQPGVAMPNLYKMQRMLLEKCDLQNYGDSATLPKGIMMNVAK...</td>\n      <td>298</td>\n      <td>SSQAWQPGVAMPNLYKMQRMLLEKCDLQNYGDSATLPKGIMMNVAK...</td>\n      <td>DQPFDPLVDPQPDLVVLVVVVVVVVPCVVVPDPVDPVLQLSLLSQQ...</td>\n      <td>298</td>\n      <td>1</td>\n      <td>0</td>\n      <td>0.000259</td>\n    </tr>\n    <tr>\n      <th>13</th>\n      <td>YP_009725310.1</td>\n      <td>endoRNAse</td>\n      <td>SLENVAFNVVNKGHFDGQQGEVPVSIINNTVYTKVDGVDVELFENK...</td>\n      <td>346</td>\n      <td>SLENVAFNVVNKGHFDGQQGEVPVSIINNTVYTKVDGVDVELFENK...</td>\n      <td>DLQVLLVPQPPADDAPDDPDPFDWDDDPQWIWTDHVNDTDTDDHPP...</td>\n      <td>346</td>\n      <td>1</td>\n      <td>1</td>\n      <td>0.767852</td>\n    </tr>\n    <tr>\n      <th>14</th>\n      <td>YP_009725309.1</td>\n      <td>3'-to-5' exonuclease</td>\n      <td>AENVTGLFKDCSKVITGLHPTQAPTHLSVDTKFKTEGLCVDIPGIP...</td>\n      <td>527</td>\n      <td>AENVTGLFKDCSKVITGLHPTQAPTHLSVDTKFKTEGLCVDIPGIP...</td>\n      <td>DPPLVVVVVCVCVVVVVVPPDDPPPDDDPPPPPPPPPPPPPPPPAD...</td>\n      <td>527</td>\n      <td>1</td>\n      <td>0</td>\n      <td>0.021509</td>\n    </tr>\n    <tr>\n      <th>15</th>\n      <td>YP_009725308.1</td>\n      <td>helicase</td>\n      <td>AVGACVLCNSQTSLRCGACIRRPFLCCKCCYDHVISTSHKLVLSVN...</td>\n      <td>601</td>\n      <td>AVGACVLCNSQTSLRCGACIRRPFLCCKCCYDHVISTSHKLVLSVN...</td>\n      <td>DWAAAPPPRFIAQKFQPQDLVSGDHDPVRVVVVCVVQVRPGIAGDD...</td>\n      <td>601</td>\n      <td>1</td>\n      <td>0</td>\n      <td>0.140146</td>\n    </tr>\n    <tr>\n      <th>16</th>\n      <td>YP_009725307.1</td>\n      <td>RNA-dependent RNA polymerase</td>\n      <td>SADAQSFLNRVCGVSAARLTPCGTGTSTDVVYRAFDIYNDKVAGFA...</td>\n      <td>932</td>\n      <td>SADAQSFLNRVCGVSAARLTPCGTGTSTDVVYRAFDIYNDKVAGFA...</td>\n      <td>DCVVVVVVVQQPPPPPDDDDDDDDDPDPPQVPDPVVPDDPPDPPPV...</td>\n      <td>932</td>\n      <td>1</td>\n      <td>1</td>\n      <td>0.864433</td>\n    </tr>\n    <tr>\n      <th>17</th>\n      <td>YP_009725255.1</td>\n      <td>ORF10 protein</td>\n      <td>MGYINVFAFPFTIYSLLLCRMNSRNYIAQVDVVNFNLT</td>\n      <td>38</td>\n      <td>MGYINVFAFPFTIYSLLLCRMNSRNYIAQVDVVNFNLT</td>\n      <td>DDPPPPVPDPPVVVVVVQVPPPPPDDDSPPPPPPPPPD</td>\n      <td>38</td>\n      <td>1</td>\n      <td>0</td>\n      <td>0.000001</td>\n    </tr>\n    <tr>\n      <th>18</th>\n      <td>YP_009724397.2</td>\n      <td>nucleocapsid phosphoprotein</td>\n      <td>MSDNGPQNQRNAPRITFGGPSDSTGSNQNGERSGARSKQRRPQGLP...</td>\n      <td>419</td>\n      <td>MSDNGPQNQRNAPRITFGGPSDSTGSNQNGERSGARSKQRRPQGLP...</td>\n      <td>DPCPPPPPPPPDPPPPPPPPPVPPPPPPDDPPPFDPPPPVPPPQDP...</td>\n      <td>419</td>\n      <td>1</td>\n      <td>1</td>\n      <td>0.995327</td>\n    </tr>\n    <tr>\n      <th>19</th>\n      <td>YP_009724396.1</td>\n      <td>ORF8 protein</td>\n      <td>MKFLVFLGIITTVAAFHQECSLQSCTQHQPYVVDDPCPIHFYSKWY...</td>\n      <td>121</td>\n      <td>MKFLVFLGIITTVAAFHQECSLQSCTQHQPYVVDDPCPIHFYSKWY...</td>\n      <td>DCPPCVVVCPVVPVLQQKFWFWDDVPDDDTPGPVDSPSPDDDPWPQ...</td>\n      <td>121</td>\n      <td>1</td>\n      <td>1</td>\n      <td>0.996818</td>\n    </tr>\n    <tr>\n      <th>20</th>\n      <td>YP_009724395.1</td>\n      <td>ORF7a protein</td>\n      <td>MKIILFLALITLATCELYHYQECVRGTTVLLKEPCSSGTYEGNSPF...</td>\n      <td>121</td>\n      <td>MKIILFLALITLATCELYHYQECVRGTTVLLKEPCSSGTYEGNSPF...</td>\n      <td>DVVVVVVVVVVLPLQEAEAEDEDAQQDKDKDAAPDPDWDKDDPFDW...</td>\n      <td>121</td>\n      <td>1</td>\n      <td>1</td>\n      <td>0.941068</td>\n    </tr>\n    <tr>\n      <th>21</th>\n      <td>YP_009724394.1</td>\n      <td>ORF6 protein</td>\n      <td>MFHLVDFQVTIAEILLIIMRTFKVSIWNLDYIINLIIKNLSKSLTE...</td>\n      <td>61</td>\n      <td>MFHLVDFQVTIAEILLIIMRTFKVSIWNLDYIINLIIKNLSKSLTE...</td>\n      <td>DPPCPDCPVPLVNVLVVCCVPVVDDPVCSVVVSVVVVVVVVCVVVV...</td>\n      <td>61</td>\n      <td>1</td>\n      <td>0</td>\n      <td>0.000004</td>\n    </tr>\n    <tr>\n      <th>22</th>\n      <td>YP_009724393.1</td>\n      <td>membrane glycoprotein</td>\n      <td>MADSNGTITVEELKKLLEQWNLVIGFLFLTWICLLQFAYANRNRFL...</td>\n      <td>222</td>\n      <td>MADSNGTITVEELKKLLEQWNLVIGFLFLTWICLLQFAYANRNRFL...</td>\n      <td>DQPPVNDQDPVNVVVVLLVLCVLVVLLVVLVVLLVVVVVQVPAPVS...</td>\n      <td>222</td>\n      <td>1</td>\n      <td>0</td>\n      <td>0.000066</td>\n    </tr>\n    <tr>\n      <th>23</th>\n      <td>YP_009724392.1</td>\n      <td>envelope protein</td>\n      <td>MYSFVSEETGTLIVNSVLLFLAFVVFLLVTLAILTALRLCAYCCNI...</td>\n      <td>75</td>\n      <td>MYSFVSEETGTLIVNSVLLFLAFVVFLLVTLAILTALRLCAYCCNI...</td>\n      <td>DPPPVCPVVVVVVVVVVVVVVVVVVVVVVVVVVVVVVVVVCVVVVV...</td>\n      <td>75</td>\n      <td>1</td>\n      <td>0</td>\n      <td>0.000012</td>\n    </tr>\n    <tr>\n      <th>24</th>\n      <td>YP_009724391.1</td>\n      <td>ORF3a protein</td>\n      <td>MDLFMRIFTIGTVTLKQGEIKDATPSDFVRATATIPIQASLPFGWL...</td>\n      <td>275</td>\n      <td>MDLFMRIFTIGTVTLKQGEIKDATPSDFVRATATIPIQASLPFGWL...</td>\n      <td>DVVVVVVLCVPVPPPPPPPPPDDDPVNSCQVSQVVCLVVVPVVLVV...</td>\n      <td>275</td>\n      <td>1</td>\n      <td>0</td>\n      <td>0.462855</td>\n    </tr>\n    <tr>\n      <th>25</th>\n      <td>YP_009724390.1</td>\n      <td>surface glycoprotein</td>\n      <td>MFVFLVLLPLVSSQCVNLTTRTQLPPAYTNSFTRGVYYPDKVFRSS...</td>\n      <td>1273</td>\n      <td>MFVFLVLLPLVSSQCVNLTTRTQLPPAYTNSFTRGVYYPDKVFRSS...</td>\n      <td>DDDDDDDDDPPDDDQDDPPFEDDDDWDWDFPAQDFAADPDPDFDAQ...</td>\n      <td>1273</td>\n      <td>1</td>\n      <td>1</td>\n      <td>0.999991</td>\n    </tr>\n  </tbody>\n</table>\n</div>"
     },
     "execution_count": 18,
     "metadata": {},
     "output_type": "execute_result"
    }
   ],
   "execution_count": 18
  },
  {
   "metadata": {
    "ExecuteTime": {
     "end_time": "2024-09-24T13:24:54.292443Z",
     "start_time": "2024-09-24T13:24:54.280529Z"
    }
   },
   "cell_type": "code",
   "source": [
    "data_df[['name', 'aa_seq', 'foldseek_seq', 'length', 'label']].to_json('dataset/Case_2_SARS-CoV-2/case.json', orient='records', lines=True)"
   ],
   "id": "663473ff0a726227",
   "outputs": [],
   "execution_count": 82
  },
  {
   "metadata": {
    "ExecuteTime": {
     "end_time": "2024-09-24T06:08:37.259571Z",
     "start_time": "2024-09-24T06:08:37.241216Z"
    }
   },
   "cell_type": "code",
   "source": [
    "aa_file = 'dataset/Case_2_SARS-CoV-2/case.fasta'\n",
    "aa = list(SeqIO.parse(aa_file, 'fasta'))\n",
    "aa_seq = [str(aa[i].seq) for i in range(len(aa))]\n",
    "aa_label = [aa[i].description for i in range(len(aa))]\n",
    "aa_df = pd.DataFrame({'name': aa_label, 'aa_seq': aa_seq})\n",
    "combine = pd.merge(aa_df, df, on='name', how='right')\n",
    "combine.drop_duplicates(subset='aa_seq', keep='last', inplace=True)\n",
    "combine['length'] = combine['aa_seq'].apply(len)\n",
    "combine['label'] = 0\n",
    "combine.to_json('dataset/Case_2_SARS-CoV-2/case.json', orient='records', lines=True)\n",
    "combine"
   ],
   "id": "6c9cf2c5e6535cbf",
   "outputs": [
    {
     "data": {
      "text/plain": [
       "           name                                             aa_seq  \\\n",
       "0    A0A0H2XKG3  MKSNLRYGIRKHKLGAASVFLGTMIVVGMGQEKEAAASEQNNTTVE...   \n",
       "1    A0A0M3Q1Q3  MRRSGNYQAPVWNNDFIQSFSTDKYKDEKFLKKKEELIAQVKVLLN...   \n",
       "2    A0A159AKG3  MDISISWVVIIVSVLSYLILMDKWRAAKLPKNIPPGPPKLPLIGHL...   \n",
       "3    A0A2U1KZS6  MQTDSVQVSPFDLASSLLNVKLTDVLNMSEELTMSPAMKMLVENRD...   \n",
       "4    A0A2U1LIM9  MQSTTSVKLSPFDLMTALLNGKVSFDTSNTSDTNIPLAVFMENREL...   \n",
       "..          ...                                                ...   \n",
       "353      Q9Y6B6  MSFIFDWIYSGFSSVLQFLGLYKKTGKLVFLGLDNAGKTTLLHMLK...   \n",
       "354      Q9Y6K9  MNRHLWKSQLCEMVQPSGGPAADQDVLGEESPLGKPAMLHLPSEQG...   \n",
       "355      R4JGL8  MATLSMQVSILSKQVKNLNSFGMRASKLPMVARRVDVSTTRLRPIC...   \n",
       "356      R4JND9  MATLSMQVSILSKQVKNLNSFGMRASKLPMVARRVDVSTTRLRPIC...   \n",
       "357      R4JQT5  MATLSMQVSILNKQLKNLNSFGMRASKLPLVARRVDVSTTRLRPIC...   \n",
       "\n",
       "                                          foldseek_seq  length  label  \n",
       "0    DDDDDDDDDDDDDDDDDPPPPDPPPPDDDDDDDDDYDDDDDDDDDD...     940      0  \n",
       "1    DFDDFPEDAEPDALVNLVPDDLCPLVDPVLVVLLVVLLVVVLVVLP...     542      0  \n",
       "2    DPVVVVVVVVVVVVQVVQQVVVVVVVVPDDPFAQAWDDADRQQWCV...     496      0  \n",
       "3    DDDPPPPDDPVVLVVVVVPDDPVVVPDDDDDDDDDPSVVVCVVDPV...     709      0  \n",
       "4    DDDDPPPPDDPVNVVVCVVVVVPDPPPDDDDDDDDDVPVVPPPVPV...     704      0  \n",
       "..                                                 ...     ...    ...  \n",
       "353  DVVVVVVVVVVVVVVCVVVLVDAAEFEEEEAEAPPLCSVQLVCCQA...     198      0  \n",
       "354  DPPPDPPDDPDPDDPPPPDDDDDDDDDDDDDDDDDDPPPDDDDDPC...     419      0  \n",
       "355  DDDPPPPPPPPPPDPPPPPPVDPPPPPPPPPPPPDDDDDDDPDDDD...     597      0  \n",
       "356  DDDPDDPPPPPPDDDDDDDDDDPDPPPDDDPPPPDPDDDDDDDDDD...     597      0  \n",
       "357  DDPPPPPQPQPPPDDDPPVPVPPPPDPPPPDDDDDDDDDDDDDDPD...     597      0  \n",
       "\n",
       "[356 rows x 5 columns]"
      ],
      "text/html": [
       "<div>\n",
       "<style scoped>\n",
       "    .dataframe tbody tr th:only-of-type {\n",
       "        vertical-align: middle;\n",
       "    }\n",
       "\n",
       "    .dataframe tbody tr th {\n",
       "        vertical-align: top;\n",
       "    }\n",
       "\n",
       "    .dataframe thead th {\n",
       "        text-align: right;\n",
       "    }\n",
       "</style>\n",
       "<table border=\"1\" class=\"dataframe\">\n",
       "  <thead>\n",
       "    <tr style=\"text-align: right;\">\n",
       "      <th></th>\n",
       "      <th>name</th>\n",
       "      <th>aa_seq</th>\n",
       "      <th>foldseek_seq</th>\n",
       "      <th>length</th>\n",
       "      <th>label</th>\n",
       "    </tr>\n",
       "  </thead>\n",
       "  <tbody>\n",
       "    <tr>\n",
       "      <th>0</th>\n",
       "      <td>A0A0H2XKG3</td>\n",
       "      <td>MKSNLRYGIRKHKLGAASVFLGTMIVVGMGQEKEAAASEQNNTTVE...</td>\n",
       "      <td>DDDDDDDDDDDDDDDDDPPPPDPPPPDDDDDDDDDYDDDDDDDDDD...</td>\n",
       "      <td>940</td>\n",
       "      <td>0</td>\n",
       "    </tr>\n",
       "    <tr>\n",
       "      <th>1</th>\n",
       "      <td>A0A0M3Q1Q3</td>\n",
       "      <td>MRRSGNYQAPVWNNDFIQSFSTDKYKDEKFLKKKEELIAQVKVLLN...</td>\n",
       "      <td>DFDDFPEDAEPDALVNLVPDDLCPLVDPVLVVLLVVLLVVVLVVLP...</td>\n",
       "      <td>542</td>\n",
       "      <td>0</td>\n",
       "    </tr>\n",
       "    <tr>\n",
       "      <th>2</th>\n",
       "      <td>A0A159AKG3</td>\n",
       "      <td>MDISISWVVIIVSVLSYLILMDKWRAAKLPKNIPPGPPKLPLIGHL...</td>\n",
       "      <td>DPVVVVVVVVVVVVQVVQQVVVVVVVVPDDPFAQAWDDADRQQWCV...</td>\n",
       "      <td>496</td>\n",
       "      <td>0</td>\n",
       "    </tr>\n",
       "    <tr>\n",
       "      <th>3</th>\n",
       "      <td>A0A2U1KZS6</td>\n",
       "      <td>MQTDSVQVSPFDLASSLLNVKLTDVLNMSEELTMSPAMKMLVENRD...</td>\n",
       "      <td>DDDPPPPDDPVVLVVVVVPDDPVVVPDDDDDDDDDPSVVVCVVDPV...</td>\n",
       "      <td>709</td>\n",
       "      <td>0</td>\n",
       "    </tr>\n",
       "    <tr>\n",
       "      <th>4</th>\n",
       "      <td>A0A2U1LIM9</td>\n",
       "      <td>MQSTTSVKLSPFDLMTALLNGKVSFDTSNTSDTNIPLAVFMENREL...</td>\n",
       "      <td>DDDDPPPPDDPVNVVVCVVVVVPDPPPDDDDDDDDDVPVVPPPVPV...</td>\n",
       "      <td>704</td>\n",
       "      <td>0</td>\n",
       "    </tr>\n",
       "    <tr>\n",
       "      <th>...</th>\n",
       "      <td>...</td>\n",
       "      <td>...</td>\n",
       "      <td>...</td>\n",
       "      <td>...</td>\n",
       "      <td>...</td>\n",
       "    </tr>\n",
       "    <tr>\n",
       "      <th>353</th>\n",
       "      <td>Q9Y6B6</td>\n",
       "      <td>MSFIFDWIYSGFSSVLQFLGLYKKTGKLVFLGLDNAGKTTLLHMLK...</td>\n",
       "      <td>DVVVVVVVVVVVVVVCVVVLVDAAEFEEEEAEAPPLCSVQLVCCQA...</td>\n",
       "      <td>198</td>\n",
       "      <td>0</td>\n",
       "    </tr>\n",
       "    <tr>\n",
       "      <th>354</th>\n",
       "      <td>Q9Y6K9</td>\n",
       "      <td>MNRHLWKSQLCEMVQPSGGPAADQDVLGEESPLGKPAMLHLPSEQG...</td>\n",
       "      <td>DPPPDPPDDPDPDDPPPPDDDDDDDDDDDDDDDDDDPPPDDDDDPC...</td>\n",
       "      <td>419</td>\n",
       "      <td>0</td>\n",
       "    </tr>\n",
       "    <tr>\n",
       "      <th>355</th>\n",
       "      <td>R4JGL8</td>\n",
       "      <td>MATLSMQVSILSKQVKNLNSFGMRASKLPMVARRVDVSTTRLRPIC...</td>\n",
       "      <td>DDDPPPPPPPPPPDPPPPPPVDPPPPPPPPPPPPDDDDDDDPDDDD...</td>\n",
       "      <td>597</td>\n",
       "      <td>0</td>\n",
       "    </tr>\n",
       "    <tr>\n",
       "      <th>356</th>\n",
       "      <td>R4JND9</td>\n",
       "      <td>MATLSMQVSILSKQVKNLNSFGMRASKLPMVARRVDVSTTRLRPIC...</td>\n",
       "      <td>DDDPDDPPPPPPDDDDDDDDDDPDPPPDDDPPPPDPDDDDDDDDDD...</td>\n",
       "      <td>597</td>\n",
       "      <td>0</td>\n",
       "    </tr>\n",
       "    <tr>\n",
       "      <th>357</th>\n",
       "      <td>R4JQT5</td>\n",
       "      <td>MATLSMQVSILNKQLKNLNSFGMRASKLPLVARRVDVSTTRLRPIC...</td>\n",
       "      <td>DDPPPPPQPQPPPDDDPPVPVPPPPDPPPPDDDDDDDDDDDDDDPD...</td>\n",
       "      <td>597</td>\n",
       "      <td>0</td>\n",
       "    </tr>\n",
       "  </tbody>\n",
       "</table>\n",
       "<p>356 rows × 5 columns</p>\n",
       "</div>"
      ]
     },
     "execution_count": 68,
     "metadata": {},
     "output_type": "execute_result"
    }
   ],
   "execution_count": 68
  },
  {
   "metadata": {
    "ExecuteTime": {
     "end_time": "2024-09-24T06:07:10.888890Z",
     "start_time": "2024-09-24T06:07:10.881798Z"
    }
   },
   "cell_type": "code",
   "source": [
    "# 查看重复的数据\n",
    "combine[combine.duplicated(subset='aa_seq', keep=False)]\n"
   ],
   "id": "c5ee44256f3c6904",
   "outputs": [
    {
     "data": {
      "text/plain": [
       "       name                                             aa_seq  \\\n",
       "161  P59637  MYSFVSEETGTLIVNSVLLFLAFVVFLLVTLAILTALRLCAYCCNI...   \n",
       "246  Q3I5J3  MYSFVSEETGTLIVNSVLLFLAFVVFLLVTLAILTALRLCAYCCNI...   \n",
       "248  Q3LZW9  MYSFVSEETGTLIVNSVLLFLAFVVFLLVTLAILTALRLCAYCCNI...   \n",
       "\n",
       "                                          foldseek_seq  \n",
       "161  DPPPVCPVVVVVVVVVVVVVVVVVVVVVVVVVVVVVVVVVVVVVVV...  \n",
       "246  DPPPVCPVVVVVVVVVVVVVVVVVVVVVVVVVVVVVVVVVVVVVVV...  \n",
       "248  DPPPVCPVVVVVVVVVVVVVVVVVVVVVVVVVVVVVVVVVVVVVVV...  "
      ],
      "text/html": [
       "<div>\n",
       "<style scoped>\n",
       "    .dataframe tbody tr th:only-of-type {\n",
       "        vertical-align: middle;\n",
       "    }\n",
       "\n",
       "    .dataframe tbody tr th {\n",
       "        vertical-align: top;\n",
       "    }\n",
       "\n",
       "    .dataframe thead th {\n",
       "        text-align: right;\n",
       "    }\n",
       "</style>\n",
       "<table border=\"1\" class=\"dataframe\">\n",
       "  <thead>\n",
       "    <tr style=\"text-align: right;\">\n",
       "      <th></th>\n",
       "      <th>name</th>\n",
       "      <th>aa_seq</th>\n",
       "      <th>foldseek_seq</th>\n",
       "    </tr>\n",
       "  </thead>\n",
       "  <tbody>\n",
       "    <tr>\n",
       "      <th>161</th>\n",
       "      <td>P59637</td>\n",
       "      <td>MYSFVSEETGTLIVNSVLLFLAFVVFLLVTLAILTALRLCAYCCNI...</td>\n",
       "      <td>DPPPVCPVVVVVVVVVVVVVVVVVVVVVVVVVVVVVVVVVVVVVVV...</td>\n",
       "    </tr>\n",
       "    <tr>\n",
       "      <th>246</th>\n",
       "      <td>Q3I5J3</td>\n",
       "      <td>MYSFVSEETGTLIVNSVLLFLAFVVFLLVTLAILTALRLCAYCCNI...</td>\n",
       "      <td>DPPPVCPVVVVVVVVVVVVVVVVVVVVVVVVVVVVVVVVVVVVVVV...</td>\n",
       "    </tr>\n",
       "    <tr>\n",
       "      <th>248</th>\n",
       "      <td>Q3LZW9</td>\n",
       "      <td>MYSFVSEETGTLIVNSVLLFLAFVVFLLVTLAILTALRLCAYCCNI...</td>\n",
       "      <td>DPPPVCPVVVVVVVVVVVVVVVVVVVVVVVVVVVVVVVVVVVVVVV...</td>\n",
       "    </tr>\n",
       "  </tbody>\n",
       "</table>\n",
       "</div>"
      ]
     },
     "execution_count": 66,
     "metadata": {},
     "output_type": "execute_result"
    }
   ],
   "execution_count": 66
  },
  {
   "metadata": {
    "ExecuteTime": {
     "end_time": "2024-09-23T13:15:29.156177Z",
     "start_time": "2024-09-23T13:15:29.143480Z"
    }
   },
   "cell_type": "code",
   "source": [
    "out = pd.read_csv('dataset/Case_2_SARS-CoV-2/out.csv')\n",
    "outt = pd.merge(data, out, on='name', how='right')\n",
    "with open('dataset/Case_2_SARS-CoV-2/out.fasta', 'w') as f:\n",
    "    for i in range(len(outt)):\n",
    "        f.write(f'>{outt.iloc[i, 0]}\\n{outt.iloc[i, 1]}\\n')"
   ],
   "id": "d36d2ddbc877deea",
   "outputs": [],
   "execution_count": 51
  },
  {
   "metadata": {
    "ExecuteTime": {
     "end_time": "2024-09-22T05:07:10.596633Z",
     "start_time": "2024-09-22T05:07:10.575248Z"
    }
   },
   "cell_type": "code",
   "source": [
    "# read fasta file\n",
    "from Bio import SeqIO\n",
    "import pandas as pd\n",
    "\n",
    "# fasta_file = 'dataset/BacteriaBinary/ESMFold/case1_ss.fasta'\n",
    "# fasta = list(SeqIO.parse(fasta_file, 'fasta'))\n",
    "# seq = [str(fasta[i].seq) for i in range(len(fasta))]\n",
    "# label = [fasta[i].description for i in range(len(fasta))]\n",
    "# df = pd.DataFrame({'name': label, 'foldseek_seq': seq})\n",
    "# df\n",
    "positive = ['Q9ZN37', 'Q9ZN50', 'Q9ZKW5', 'P0A0R4', 'Q9ZMJ1', 'Q9ZLJ8', 'P69997', 'Q9ZLT1', 'Q9ZKE6', 'Q9ZKX5', 'Q9ZL47']\n",
    "data = pd.read_json('dataset/BacteriaBinary/ESMFold/case.json', orient='records', lines=True)\n",
    "\n",
    "\n",
    "# data[['name', 'aa_seq', 'foldseek_seq', 'length', 'label']].to_json('dataset/BacteriaBinary/ESMFold/case.json', orient='records', lines=True)\n",
    "data\n"
   ],
   "id": "4eec94b6e3b165c1",
   "outputs": [
    {
     "data": {
      "text/plain": [
       "        name                                             aa_seq  \\\n",
       "0     B4XMC6  MFNYEELFQTHKTPFYLYDFDKIKQAFLNYKEAFKGRKSLICYALK...   \n",
       "1     O08314  MDFQLQATDNNARAGLLNLAHSQVATPVFMPVGTQGCIKSLDATDA...   \n",
       "2     O08691  MFLRSSASRLLHGQIPCVLTRSVHSVAIVGAPFSRGQKKLGVEYGP...   \n",
       "3     O24915  MVQKIGILGAMREEITPILELFGVDFEEIPLGGNVFHKGVYHNKEI...   \n",
       "4     O25001  MLGNVKKTLFGVLCLGTLCLRGLMAEPDAKELVNLGIESAKKQDFA...   \n",
       "...      ...                                                ...   \n",
       "1853  Q9ZMP3  MLEKLIERVLFATRWLLAPLCIAMSLVLVVLGYVFMKELWHMLSHL...   \n",
       "1854  Q9ZMR9  MGRAFEYRRAAKEKRWDKMSKVFPKLAKAITLAAKEGGSEPDTNAK...   \n",
       "1855  Q9ZMW2  MLKRIKVGSDLNKKESLLDAFVKTYLQTLEPISSKRLKELANLKVS...   \n",
       "1856  Q9ZLJ8  MKKVLLLTLSLSLSFWLHAERNGFYLGLNFAEGSYIQGQGSIGEKA...   \n",
       "1857  P0A0R4  MKFQPLGERVLVERLEEENKTSSGIIIPDNAKEKPLMGVVKAVSHK...   \n",
       "\n",
       "                                           foldseek_seq  length  label  \n",
       "0     DFDVVVVCVVDPDWAKEFALVLLVVLVVLLVVLQPPAFAAEAAECQ...     405      0  \n",
       "1     DAWAFDFFQQQFTWTWDDAPQDIDIWLFEAQEDQQLDRPLDQLCCC...     371      0  \n",
       "2     DDDDDDDDDPPPPPDPPPPPQDAAAEEEEEELDDQLAPDDFLSCLS...     354      0  \n",
       "3     DAAEEEEEEADPLQQVLLVVVQPFDWDWDDDPNWTWTWGDHPSHIY...     231      0  \n",
       "4     DPDPPVPVVVVVVVVVVVVVVPDPPDDALVRLQVQLVVCVVVLVNL...     250      0  \n",
       "...                                                 ...     ...    ...  \n",
       "1853  DVVVVVVVVVVVVLVVCVVVLVVLVVVLVVLVVVLVVLVVVCVVCV...     177      0  \n",
       "1854  DPPVVVVVVVVVVVLVVVCVLQLLLLLLQLLVQCLVQNLDCVRGVS...     240      0  \n",
       "1855  DPPPDPPVVVVVVLLVLLLLVLLVCLVPVDFDQLVRSCVVSVDPDD...     266      0  \n",
       "1856  DVVVVVVVVVVVQPPPADDDAWFKKKKKKKWKWFWFQFPDCPVVLV...     307      1  \n",
       "1857  DPDADADQKFKWAFDDDDQADPVGDGDDPVVPQFWTKTFTQHGHPV...     118      1  \n",
       "\n",
       "[1858 rows x 5 columns]"
      ],
      "text/html": [
       "<div>\n",
       "<style scoped>\n",
       "    .dataframe tbody tr th:only-of-type {\n",
       "        vertical-align: middle;\n",
       "    }\n",
       "\n",
       "    .dataframe tbody tr th {\n",
       "        vertical-align: top;\n",
       "    }\n",
       "\n",
       "    .dataframe thead th {\n",
       "        text-align: right;\n",
       "    }\n",
       "</style>\n",
       "<table border=\"1\" class=\"dataframe\">\n",
       "  <thead>\n",
       "    <tr style=\"text-align: right;\">\n",
       "      <th></th>\n",
       "      <th>name</th>\n",
       "      <th>aa_seq</th>\n",
       "      <th>foldseek_seq</th>\n",
       "      <th>length</th>\n",
       "      <th>label</th>\n",
       "    </tr>\n",
       "  </thead>\n",
       "  <tbody>\n",
       "    <tr>\n",
       "      <th>0</th>\n",
       "      <td>B4XMC6</td>\n",
       "      <td>MFNYEELFQTHKTPFYLYDFDKIKQAFLNYKEAFKGRKSLICYALK...</td>\n",
       "      <td>DFDVVVVCVVDPDWAKEFALVLLVVLVVLLVVLQPPAFAAEAAECQ...</td>\n",
       "      <td>405</td>\n",
       "      <td>0</td>\n",
       "    </tr>\n",
       "    <tr>\n",
       "      <th>1</th>\n",
       "      <td>O08314</td>\n",
       "      <td>MDFQLQATDNNARAGLLNLAHSQVATPVFMPVGTQGCIKSLDATDA...</td>\n",
       "      <td>DAWAFDFFQQQFTWTWDDAPQDIDIWLFEAQEDQQLDRPLDQLCCC...</td>\n",
       "      <td>371</td>\n",
       "      <td>0</td>\n",
       "    </tr>\n",
       "    <tr>\n",
       "      <th>2</th>\n",
       "      <td>O08691</td>\n",
       "      <td>MFLRSSASRLLHGQIPCVLTRSVHSVAIVGAPFSRGQKKLGVEYGP...</td>\n",
       "      <td>DDDDDDDDDPPPPPDPPPPPQDAAAEEEEEELDDQLAPDDFLSCLS...</td>\n",
       "      <td>354</td>\n",
       "      <td>0</td>\n",
       "    </tr>\n",
       "    <tr>\n",
       "      <th>3</th>\n",
       "      <td>O24915</td>\n",
       "      <td>MVQKIGILGAMREEITPILELFGVDFEEIPLGGNVFHKGVYHNKEI...</td>\n",
       "      <td>DAAEEEEEEADPLQQVLLVVVQPFDWDWDDDPNWTWTWGDHPSHIY...</td>\n",
       "      <td>231</td>\n",
       "      <td>0</td>\n",
       "    </tr>\n",
       "    <tr>\n",
       "      <th>4</th>\n",
       "      <td>O25001</td>\n",
       "      <td>MLGNVKKTLFGVLCLGTLCLRGLMAEPDAKELVNLGIESAKKQDFA...</td>\n",
       "      <td>DPDPPVPVVVVVVVVVVVVVVPDPPDDALVRLQVQLVVCVVVLVNL...</td>\n",
       "      <td>250</td>\n",
       "      <td>0</td>\n",
       "    </tr>\n",
       "    <tr>\n",
       "      <th>...</th>\n",
       "      <td>...</td>\n",
       "      <td>...</td>\n",
       "      <td>...</td>\n",
       "      <td>...</td>\n",
       "      <td>...</td>\n",
       "    </tr>\n",
       "    <tr>\n",
       "      <th>1853</th>\n",
       "      <td>Q9ZMP3</td>\n",
       "      <td>MLEKLIERVLFATRWLLAPLCIAMSLVLVVLGYVFMKELWHMLSHL...</td>\n",
       "      <td>DVVVVVVVVVVVVLVVCVVVLVVLVVVLVVLVVVLVVLVVVCVVCV...</td>\n",
       "      <td>177</td>\n",
       "      <td>0</td>\n",
       "    </tr>\n",
       "    <tr>\n",
       "      <th>1854</th>\n",
       "      <td>Q9ZMR9</td>\n",
       "      <td>MGRAFEYRRAAKEKRWDKMSKVFPKLAKAITLAAKEGGSEPDTNAK...</td>\n",
       "      <td>DPPVVVVVVVVVVVLVVVCVLQLLLLLLQLLVQCLVQNLDCVRGVS...</td>\n",
       "      <td>240</td>\n",
       "      <td>0</td>\n",
       "    </tr>\n",
       "    <tr>\n",
       "      <th>1855</th>\n",
       "      <td>Q9ZMW2</td>\n",
       "      <td>MLKRIKVGSDLNKKESLLDAFVKTYLQTLEPISSKRLKELANLKVS...</td>\n",
       "      <td>DPPPDPPVVVVVVLLVLLLLVLLVCLVPVDFDQLVRSCVVSVDPDD...</td>\n",
       "      <td>266</td>\n",
       "      <td>0</td>\n",
       "    </tr>\n",
       "    <tr>\n",
       "      <th>1856</th>\n",
       "      <td>Q9ZLJ8</td>\n",
       "      <td>MKKVLLLTLSLSLSFWLHAERNGFYLGLNFAEGSYIQGQGSIGEKA...</td>\n",
       "      <td>DVVVVVVVVVVVQPPPADDDAWFKKKKKKKWKWFWFQFPDCPVVLV...</td>\n",
       "      <td>307</td>\n",
       "      <td>1</td>\n",
       "    </tr>\n",
       "    <tr>\n",
       "      <th>1857</th>\n",
       "      <td>P0A0R4</td>\n",
       "      <td>MKFQPLGERVLVERLEEENKTSSGIIIPDNAKEKPLMGVVKAVSHK...</td>\n",
       "      <td>DPDADADQKFKWAFDDDDQADPVGDGDDPVVPQFWTKTFTQHGHPV...</td>\n",
       "      <td>118</td>\n",
       "      <td>1</td>\n",
       "    </tr>\n",
       "  </tbody>\n",
       "</table>\n",
       "<p>1858 rows × 5 columns</p>\n",
       "</div>"
      ]
     },
     "execution_count": 38,
     "metadata": {},
     "output_type": "execute_result"
    }
   ],
   "execution_count": 38
  },
  {
   "metadata": {
    "ExecuteTime": {
     "end_time": "2024-09-22T05:05:19.771571Z",
     "start_time": "2024-09-22T05:05:19.764351Z"
    }
   },
   "cell_type": "code",
   "source": [
    "data[data['aa_seq']=='MKFQPLGERVLVERLEEENKTSSGIIIPDNAKEKPLMGVVKAVSHKISEGCKCVKEGDVIAFGKYKGAEIVLDGTEYMVLELEDILGIVGSGSCCHTGNHDHKHAKEHEACCHDHKKH']"
   ],
   "id": "6cc528483cd6ddb9",
   "outputs": [
    {
     "data": {
      "text/plain": [
       "        name                                             aa_seq  \\\n",
       "1753  Q1CVE4  MKFQPLGERVLVERLEEENKTSSGIIIPDNAKEKPLMGVVKAVSHK...   \n",
       "569   P0A0R4  MKFQPLGERVLVERLEEENKTSSGIIIPDNAKEKPLMGVVKAVSHK...   \n",
       "\n",
       "                                           foldseek_seq  length  label  \n",
       "1753  DPDADADQKFKWAFDDDDQADPVGDGDDPVVPQFWTKTFTQHGHPV...     118      0  \n",
       "569   DPDADADQKFKWAFDDDDQADPVGDGDDPVVPQFWTKTFTQHGHPV...     118      1  "
      ],
      "text/html": [
       "<div>\n",
       "<style scoped>\n",
       "    .dataframe tbody tr th:only-of-type {\n",
       "        vertical-align: middle;\n",
       "    }\n",
       "\n",
       "    .dataframe tbody tr th {\n",
       "        vertical-align: top;\n",
       "    }\n",
       "\n",
       "    .dataframe thead th {\n",
       "        text-align: right;\n",
       "    }\n",
       "</style>\n",
       "<table border=\"1\" class=\"dataframe\">\n",
       "  <thead>\n",
       "    <tr style=\"text-align: right;\">\n",
       "      <th></th>\n",
       "      <th>name</th>\n",
       "      <th>aa_seq</th>\n",
       "      <th>foldseek_seq</th>\n",
       "      <th>length</th>\n",
       "      <th>label</th>\n",
       "    </tr>\n",
       "  </thead>\n",
       "  <tbody>\n",
       "    <tr>\n",
       "      <th>1753</th>\n",
       "      <td>Q1CVE4</td>\n",
       "      <td>MKFQPLGERVLVERLEEENKTSSGIIIPDNAKEKPLMGVVKAVSHK...</td>\n",
       "      <td>DPDADADQKFKWAFDDDDQADPVGDGDDPVVPQFWTKTFTQHGHPV...</td>\n",
       "      <td>118</td>\n",
       "      <td>0</td>\n",
       "    </tr>\n",
       "    <tr>\n",
       "      <th>569</th>\n",
       "      <td>P0A0R4</td>\n",
       "      <td>MKFQPLGERVLVERLEEENKTSSGIIIPDNAKEKPLMGVVKAVSHK...</td>\n",
       "      <td>DPDADADQKFKWAFDDDDQADPVGDGDDPVVPQFWTKTFTQHGHPV...</td>\n",
       "      <td>118</td>\n",
       "      <td>1</td>\n",
       "    </tr>\n",
       "  </tbody>\n",
       "</table>\n",
       "</div>"
      ]
     },
     "execution_count": 36,
     "metadata": {},
     "output_type": "execute_result"
    }
   ],
   "execution_count": 36
  },
  {
   "cell_type": "code",
   "source": [
    "df[df.name.isin(positive)]"
   ],
   "metadata": {
    "collapsed": false,
    "ExecuteTime": {
     "end_time": "2024-09-22T04:22:51.191185Z",
     "start_time": "2024-09-22T04:22:51.183505Z"
    }
   },
   "id": "e361dc710953058b",
   "outputs": [
    {
     "data": {
      "text/plain": [
       "        name                                       foldseek_seq  length\n",
       "1030  P0A0R4  DPDADADQKFKWAFDDDDQADPVGDGDDPVVPQFWTKTFTQHGHPV...     118\n",
       "1304  P69997  DPPDDPVSCCVQPNQDDDCFDDPPPDPDTDRPPPPPCPPDDPPPPP...     569\n",
       "1798  Q9ZKE6  DFDQFDQPDDQPLQVVQDHSVLCCQVRVPPLRVLVVQLCVVCVPHP...     213\n",
       "1838  Q9ZKW5  DVVVVVVVVVCPVVVVVVVVVVVVVPDDPPCPVVCCVPPVCCVVCV...    1288\n",
       "1843  Q9ZKX5  DDPQPDFDPPVPPDGQRGVVGQPDDDPDGDPPPPPVVVCCCVVCVV...     505\n",
       "1873  Q9ZL47  DDDDDDDDPPPVVVVVVVVVVVVVVVPDDDPPPPPPQADLPLDDDQ...     260\n",
       "1912  Q9ZLJ8  DVVVVVVVVVVVQPPPADDDAWFKKKKKKKWKWFWFQFPDCPVVLV...     307\n",
       "1933  Q9ZLT1  DDDDDPDDDPDDPDPQDPVQLLLLLVLLLVQLLVLLCVLPVVCNVV...    1167\n",
       "2004  Q9ZMJ1  DALLLLLQQLLLQLVLVLVQLVLCLQAEDDDCNVVSNVVSVVVSVV...     144\n",
       "2073  Q9ZN37  DWDWDADPVPRDIFTFDFDDDPDDPGDTPCVCVCVGPVDDPPVVVV...     426\n",
       "2075  Q9ZN50  DDKDKDFDLRLLVLLLLLLVVLLVQLLQLFALLRDWDWADDPDDDI...     546"
      ],
      "text/html": [
       "<div>\n",
       "<style scoped>\n",
       "    .dataframe tbody tr th:only-of-type {\n",
       "        vertical-align: middle;\n",
       "    }\n",
       "\n",
       "    .dataframe tbody tr th {\n",
       "        vertical-align: top;\n",
       "    }\n",
       "\n",
       "    .dataframe thead th {\n",
       "        text-align: right;\n",
       "    }\n",
       "</style>\n",
       "<table border=\"1\" class=\"dataframe\">\n",
       "  <thead>\n",
       "    <tr style=\"text-align: right;\">\n",
       "      <th></th>\n",
       "      <th>name</th>\n",
       "      <th>foldseek_seq</th>\n",
       "      <th>length</th>\n",
       "    </tr>\n",
       "  </thead>\n",
       "  <tbody>\n",
       "    <tr>\n",
       "      <th>1030</th>\n",
       "      <td>P0A0R4</td>\n",
       "      <td>DPDADADQKFKWAFDDDDQADPVGDGDDPVVPQFWTKTFTQHGHPV...</td>\n",
       "      <td>118</td>\n",
       "    </tr>\n",
       "    <tr>\n",
       "      <th>1304</th>\n",
       "      <td>P69997</td>\n",
       "      <td>DPPDDPVSCCVQPNQDDDCFDDPPPDPDTDRPPPPPCPPDDPPPPP...</td>\n",
       "      <td>569</td>\n",
       "    </tr>\n",
       "    <tr>\n",
       "      <th>1798</th>\n",
       "      <td>Q9ZKE6</td>\n",
       "      <td>DFDQFDQPDDQPLQVVQDHSVLCCQVRVPPLRVLVVQLCVVCVPHP...</td>\n",
       "      <td>213</td>\n",
       "    </tr>\n",
       "    <tr>\n",
       "      <th>1838</th>\n",
       "      <td>Q9ZKW5</td>\n",
       "      <td>DVVVVVVVVVCPVVVVVVVVVVVVVPDDPPCPVVCCVPPVCCVVCV...</td>\n",
       "      <td>1288</td>\n",
       "    </tr>\n",
       "    <tr>\n",
       "      <th>1843</th>\n",
       "      <td>Q9ZKX5</td>\n",
       "      <td>DDPQPDFDPPVPPDGQRGVVGQPDDDPDGDPPPPPVVVCCCVVCVV...</td>\n",
       "      <td>505</td>\n",
       "    </tr>\n",
       "    <tr>\n",
       "      <th>1873</th>\n",
       "      <td>Q9ZL47</td>\n",
       "      <td>DDDDDDDDPPPVVVVVVVVVVVVVVVPDDDPPPPPPQADLPLDDDQ...</td>\n",
       "      <td>260</td>\n",
       "    </tr>\n",
       "    <tr>\n",
       "      <th>1912</th>\n",
       "      <td>Q9ZLJ8</td>\n",
       "      <td>DVVVVVVVVVVVQPPPADDDAWFKKKKKKKWKWFWFQFPDCPVVLV...</td>\n",
       "      <td>307</td>\n",
       "    </tr>\n",
       "    <tr>\n",
       "      <th>1933</th>\n",
       "      <td>Q9ZLT1</td>\n",
       "      <td>DDDDDPDDDPDDPDPQDPVQLLLLLVLLLVQLLVLLCVLPVVCNVV...</td>\n",
       "      <td>1167</td>\n",
       "    </tr>\n",
       "    <tr>\n",
       "      <th>2004</th>\n",
       "      <td>Q9ZMJ1</td>\n",
       "      <td>DALLLLLQQLLLQLVLVLVQLVLCLQAEDDDCNVVSNVVSVVVSVV...</td>\n",
       "      <td>144</td>\n",
       "    </tr>\n",
       "    <tr>\n",
       "      <th>2073</th>\n",
       "      <td>Q9ZN37</td>\n",
       "      <td>DWDWDADPVPRDIFTFDFDDDPDDPGDTPCVCVCVGPVDDPPVVVV...</td>\n",
       "      <td>426</td>\n",
       "    </tr>\n",
       "    <tr>\n",
       "      <th>2075</th>\n",
       "      <td>Q9ZN50</td>\n",
       "      <td>DDKDKDFDLRLLVLLLLLLVVLLVQLLQLFALLRDWDWADDPDDDI...</td>\n",
       "      <td>546</td>\n",
       "    </tr>\n",
       "  </tbody>\n",
       "</table>\n",
       "</div>"
      ]
     },
     "execution_count": 10,
     "metadata": {},
     "output_type": "execute_result"
    }
   ],
   "execution_count": 10
  },
  {
   "cell_type": "code",
   "execution_count": 5,
   "outputs": [
    {
     "data": {
      "text/plain": "             name                                             aa_seq  \\\n0      A0A0H3B763  MLTNLTPELLALSTLIGSGRQTAGVSVALTEIDGEGVYLPLHYGGQ...   \n1     YP_026537.1  MAKDIKFSEEARRSMLRGVDTLANAVKVTLGPKGRNVVLEKKFGSP...   \n2          B2TSY7  MSVTVPNKDWTLSSLSETFDDGTQTLQRQLTSALNALAENPSNPQL...   \n3      A0A0E8CC52  MRTCYTGQVCRDHLGQTVTLYGWVNRRRDHGGVIFIDLRDRTGLAQ...   \n4      A0A0Y5T3E3  MPSEAASDGILPLYPTRTIFQKPIMLPFFPEPSLSYTQQNRTAVLL...   \n...           ...                                                ...   \n1623       O53692  MSLLDAHIPQLVASQSAFAAKAGLMRHTIGQAEQAAMSAQAFHQGE...   \n1624   A0A2A7U4T4  MAEKQGVLLVNLGTPSAATPAAVKRYLAEFLSDRRVVDLPAWQWQP...   \n1625   A0A1H4WT45  MKTVAEILRAKPQAAVYSVTPSTSVLDAIKLMAEKGIGALVVLDEK...   \n1626   A0A2X1DVW3  MKTLVICSGGLDSVSLAHKMAAEHELTGLLSFDYGQRHKKELDFAQ...   \n1627       Q97NZ6  MAQHLTTEALRKDFLAVFGQEADQTFFSPGRINLIGEHTDYNGGHV...   \n\n                                           foldseek_seq  length  label  \n0     DDFDDDPLNVVVCVLQPCWFDDPQKIKDWDWDWDKFKWFWKDDPND...     320      0  \n1     DDWDKDFDPVLLVLLLLLLCVLLVQLLQLFAPLRDWDWADDPDDDT...     544      1  \n2     DDLPDPPPDPDPVVSVVSLVVVLVVLVVQLVVLVVVCVVPVPDPVS...      83      0  \n3     DFPDEALPQAPVQAFPKTKYKAWFQDWDDDPNKIWTWGDDLNFTAI...     596      0  \n4     DDDDDDPPPDDPPPPPPPPPPPPPPDPQDDDDPDDPVLAQAEAEEE...     360      0  \n...                                                 ...     ...    ...  \n1623  DPVLVVCLVVLVVVLVVLVVVLVVLVVVLVVVLVVLVVCLVVDDDP...      97      1  \n1624  DPAAEEEEEEEADDFPALDLVSQLQQCLLLVQDCLAPVDDCVVVVC...     325      0  \n1625  DAFQLVLVVVVPCQPQAEAEQQDFLVVVVVVCVVVVHFKHFYAYPV...     145      0  \n1626  DEEEEAFQQALQRLLVLLVCLVVHRYQFYEYEDQQFPCCLSVVLRV...     232      0  \n1627  DPPPDDPVNQQVVLCVQVVDGFPFKWKWFFKWWLFQPPLQLQQFKT...     392      0  \n\n[1628 rows x 5 columns]",
      "text/html": "<div>\n<style scoped>\n    .dataframe tbody tr th:only-of-type {\n        vertical-align: middle;\n    }\n\n    .dataframe tbody tr th {\n        vertical-align: top;\n    }\n\n    .dataframe thead th {\n        text-align: right;\n    }\n</style>\n<table border=\"1\" class=\"dataframe\">\n  <thead>\n    <tr style=\"text-align: right;\">\n      <th></th>\n      <th>name</th>\n      <th>aa_seq</th>\n      <th>foldseek_seq</th>\n      <th>length</th>\n      <th>label</th>\n    </tr>\n  </thead>\n  <tbody>\n    <tr>\n      <th>0</th>\n      <td>A0A0H3B763</td>\n      <td>MLTNLTPELLALSTLIGSGRQTAGVSVALTEIDGEGVYLPLHYGGQ...</td>\n      <td>DDFDDDPLNVVVCVLQPCWFDDPQKIKDWDWDWDKFKWFWKDDPND...</td>\n      <td>320</td>\n      <td>0</td>\n    </tr>\n    <tr>\n      <th>1</th>\n      <td>YP_026537.1</td>\n      <td>MAKDIKFSEEARRSMLRGVDTLANAVKVTLGPKGRNVVLEKKFGSP...</td>\n      <td>DDWDKDFDPVLLVLLLLLLCVLLVQLLQLFAPLRDWDWADDPDDDT...</td>\n      <td>544</td>\n      <td>1</td>\n    </tr>\n    <tr>\n      <th>2</th>\n      <td>B2TSY7</td>\n      <td>MSVTVPNKDWTLSSLSETFDDGTQTLQRQLTSALNALAENPSNPQL...</td>\n      <td>DDLPDPPPDPDPVVSVVSLVVVLVVLVVQLVVLVVVCVVPVPDPVS...</td>\n      <td>83</td>\n      <td>0</td>\n    </tr>\n    <tr>\n      <th>3</th>\n      <td>A0A0E8CC52</td>\n      <td>MRTCYTGQVCRDHLGQTVTLYGWVNRRRDHGGVIFIDLRDRTGLAQ...</td>\n      <td>DFPDEALPQAPVQAFPKTKYKAWFQDWDDDPNKIWTWGDDLNFTAI...</td>\n      <td>596</td>\n      <td>0</td>\n    </tr>\n    <tr>\n      <th>4</th>\n      <td>A0A0Y5T3E3</td>\n      <td>MPSEAASDGILPLYPTRTIFQKPIMLPFFPEPSLSYTQQNRTAVLL...</td>\n      <td>DDDDDDPPPDDPPPPPPPPPPPPPPDPQDDDDPDDPVLAQAEAEEE...</td>\n      <td>360</td>\n      <td>0</td>\n    </tr>\n    <tr>\n      <th>...</th>\n      <td>...</td>\n      <td>...</td>\n      <td>...</td>\n      <td>...</td>\n      <td>...</td>\n    </tr>\n    <tr>\n      <th>1623</th>\n      <td>O53692</td>\n      <td>MSLLDAHIPQLVASQSAFAAKAGLMRHTIGQAEQAAMSAQAFHQGE...</td>\n      <td>DPVLVVCLVVLVVVLVVLVVVLVVLVVVLVVVLVVLVVCLVVDDDP...</td>\n      <td>97</td>\n      <td>1</td>\n    </tr>\n    <tr>\n      <th>1624</th>\n      <td>A0A2A7U4T4</td>\n      <td>MAEKQGVLLVNLGTPSAATPAAVKRYLAEFLSDRRVVDLPAWQWQP...</td>\n      <td>DPAAEEEEEEEADDFPALDLVSQLQQCLLLVQDCLAPVDDCVVVVC...</td>\n      <td>325</td>\n      <td>0</td>\n    </tr>\n    <tr>\n      <th>1625</th>\n      <td>A0A1H4WT45</td>\n      <td>MKTVAEILRAKPQAAVYSVTPSTSVLDAIKLMAEKGIGALVVLDEK...</td>\n      <td>DAFQLVLVVVVPCQPQAEAEQQDFLVVVVVVCVVVVHFKHFYAYPV...</td>\n      <td>145</td>\n      <td>0</td>\n    </tr>\n    <tr>\n      <th>1626</th>\n      <td>A0A2X1DVW3</td>\n      <td>MKTLVICSGGLDSVSLAHKMAAEHELTGLLSFDYGQRHKKELDFAQ...</td>\n      <td>DEEEEAFQQALQRLLVLLVCLVVHRYQFYEYEDQQFPCCLSVVLRV...</td>\n      <td>232</td>\n      <td>0</td>\n    </tr>\n    <tr>\n      <th>1627</th>\n      <td>Q97NZ6</td>\n      <td>MAQHLTTEALRKDFLAVFGQEADQTFFSPGRINLIGEHTDYNGGHV...</td>\n      <td>DPPPDDPVNQQVVLCVQVVDGFPFKWKWFFKWWLFQPPLQLQQFKT...</td>\n      <td>392</td>\n      <td>0</td>\n    </tr>\n  </tbody>\n</table>\n<p>1628 rows × 5 columns</p>\n</div>"
     },
     "execution_count": 5,
     "metadata": {},
     "output_type": "execute_result"
    }
   ],
   "source": [
    "data = pd.read_json('dataset/BacteriaBinary/ESMFold/train.json', orient='records', lines=True)\n",
    "data"
   ],
   "metadata": {
    "collapsed": false,
    "ExecuteTime": {
     "end_time": "2024-09-21T10:35:28.341638600Z",
     "start_time": "2024-09-21T10:35:28.320997300Z"
    }
   },
   "id": "5c623fc9864717f3"
  },
  {
   "cell_type": "code",
   "execution_count": 10,
   "outputs": [
    {
     "data": {
      "text/plain": "(13, 1615, 2294)"
     },
     "execution_count": 10,
     "metadata": {},
     "output_type": "execute_result"
    }
   ],
   "source": [
    "# 比较两个dataframe的name列，相同的个数和不同的个数\n",
    "def compare_name(df1, df2):\n",
    "    name1 = set(df1['name'])\n",
    "    name2 = set(df2['name'])\n",
    "    common = name1 & name2\n",
    "    diff1 = name1 - name2\n",
    "    diff2 = name2 - name1\n",
    "    return common, diff1, diff2\n",
    "\n",
    "train = pd.read_json('dataset/BacteriaBinary/ESMFold/train.json', orient='records', lines=True)\n",
    "test = pd.read_json('dataset/BacteriaBinary/ESMFold/test.json', orient='records', lines=True)\n",
    "valid = pd.read_json('dataset/BacteriaBinary/ESMFold/valid.json', orient='records', lines=True)\n",
    "common, diff1, diff2 = compare_name(train, df)\n",
    "len(common), len(diff1), len(diff2)"
   ],
   "metadata": {
    "collapsed": false,
    "ExecuteTime": {
     "end_time": "2024-09-21T10:41:12.282295900Z",
     "start_time": "2024-09-21T10:41:12.258736900Z"
    }
   },
   "id": "ad12aff7458db4c7"
  },
  {
   "cell_type": "code",
   "execution_count": 12,
   "outputs": [
    {
     "data": {
      "text/plain": "{'B2UW70',\n 'B5Z8D2',\n 'B5Z9S9',\n 'B6JNE6',\n 'P0A0R3',\n 'P69997',\n 'Q9ZJX2',\n 'Q9ZKE6',\n 'Q9ZKX5',\n 'Q9ZL47',\n 'Q9ZLH3',\n 'Q9ZMJ6',\n 'Q9ZN37'}"
     },
     "execution_count": 12,
     "metadata": {},
     "output_type": "execute_result"
    }
   ],
   "source": [
    "common"
   ],
   "metadata": {
    "collapsed": false,
    "ExecuteTime": {
     "end_time": "2024-09-21T10:42:07.859681Z",
     "start_time": "2024-09-21T10:42:07.855152700Z"
    }
   },
   "id": "73f5b66e7367775a"
  },
  {
   "cell_type": "code",
   "execution_count": null,
   "outputs": [],
   "source": [],
   "metadata": {
    "collapsed": false
   },
   "id": "22aa716fdb35c0"
  }
 ],
 "metadata": {
  "kernelspec": {
   "display_name": "Python 3",
   "language": "python",
   "name": "python3"
  },
  "language_info": {
   "codemirror_mode": {
    "name": "ipython",
    "version": 2
   },
   "file_extension": ".py",
   "mimetype": "text/x-python",
   "name": "python",
   "nbconvert_exporter": "python",
   "pygments_lexer": "ipython2",
   "version": "2.7.6"
  }
 },
 "nbformat": 4,
 "nbformat_minor": 5
}
